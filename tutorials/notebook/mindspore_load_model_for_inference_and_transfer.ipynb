{
 "cells": [
  {
   "cell_type": "markdown",
   "metadata": {},
   "source": [
    "# 加载模型用于推理或迁移学习\n",
    "\n",
    "## 概述\n",
    "\n",
    "\n",
    "在模型训练过程中保存在本地的CheckPoint文件，或从MindSpore Hub下载的CheckPoint文件，都可以帮助用户进行推理或迁移学习使用，提高效率。\n",
    "\n",
    "以下通过示例来介绍如何通过本地加载加载模型，用于推理验证和迁移学习。\n",
    "\n",
    "> 本文档适用于CPU、GPU和Ascend环境。"
   ]
  },
  {
   "cell_type": "markdown",
   "metadata": {},
   "source": [
    "## 整体流程\n",
    "\n",
    "1. 准备环节。下载数据集，配置运行信息。\n",
    "2. 数据处理。创建可用于网络训练的数据集，可视化数据集图像。\n",
    "3. 预训练模型。生成CheckPoint文件。\n",
    "4. 本地加载模型用于推理验证。\n",
    "5. 本地加载模型用于迁移学习。"
   ]
  },
  {
   "cell_type": "markdown",
   "metadata": {},
   "source": [
    "##  准备环节\n",
    "\n",
    "### 下载数据集\n",
    "\n",
    "运行以下一段代码,将数据集下载至当前工作目录中`./datasets/MNIST_Data`目录下。"
   ]
  },
  {
   "cell_type": "code",
   "execution_count": 1,
   "metadata": {},
   "outputs": [
    {
     "name": "stdout",
     "output_type": "stream",
     "text": [
      "--2020-11-26 19:11:31--  https://obs.dualstack.cn-north-4.myhuaweicloud.com/mindspore-website/notebook/datasets/MNIST_Data.zip\n",
      "Resolving proxy-notebook.modelarts-dev-proxy.com (proxy-notebook.modelarts-dev-proxy.com)... 192.168.0.172\n",
      "Connecting to proxy-notebook.modelarts-dev-proxy.com (proxy-notebook.modelarts-dev-proxy.com)|192.168.0.172|:8083... connected.\n",
      "Proxy request sent, awaiting response... 200 OK\n",
      "Length: 10754903 (10M) [application/zip]\n",
      "Saving to: ‘MNIST_Data.zip’\n",
      "\n",
      "MNIST_Data.zip      100%[===================>]  10.26M  --.-KB/s    in 0.07s   \n",
      "\n",
      "2020-11-26 19:11:31 (138 MB/s) - ‘MNIST_Data.zip’ saved [10754903/10754903]\n",
      "\n",
      "Archive:  MNIST_Data.zip\n",
      "   creating: MNIST_Data/test/\n",
      "  inflating: MNIST_Data/test/t10k-images-idx3-ubyte  \n",
      "  inflating: MNIST_Data/test/t10k-labels-idx1-ubyte  \n",
      "   creating: MNIST_Data/train/\n",
      "  inflating: MNIST_Data/train/train-images-idx3-ubyte  \n",
      "  inflating: MNIST_Data/train/train-labels-idx1-ubyte  \n",
      "./datasets/MNIST_Data/\n",
      "├── test\n",
      "│   ├── t10k-images-idx3-ubyte\n",
      "│   └── t10k-labels-idx1-ubyte\n",
      "└── train\n",
      "    ├── train-images-idx3-ubyte\n",
      "    └── train-labels-idx1-ubyte\n",
      "\n",
      "2 directories, 4 files\n"
     ]
    }
   ],
   "source": [
    "!wget https://obs.dualstack.cn-north-4.myhuaweicloud.com/mindspore-website/notebook/datasets/MNIST_Data.zip\n",
    "!unzip MNIST_Data.zip\n",
    "!mkdir -p ./datasets/\n",
    "!mv -f ./MNIST_Data/ ./datasets/\n",
    "!tree ./datasets/MNIST_Data/"
   ]
  },
  {
   "cell_type": "markdown",
   "metadata": {},
   "source": [
    "### 配置运行环境\n",
    "\n",
    "运行以下一段代码，配置训练网络参数，配置运行平台为CPU，并指定模型文件目录和数据集目录。\n",
    "\n",
    "相关参数含义为：\n",
    "\n",
    "- `device_target`：硬件平台。\n",
    "- `data_pat`：数据集目录。\n",
    "- `ckpt_path`：训练后的模型文件存放目录。\n",
    "- `epoch_size`：迭代训练次数。"
   ]
  },
  {
   "cell_type": "code",
   "execution_count": 2,
   "metadata": {},
   "outputs": [],
   "source": [
    "\"\"\"\n",
    "network config setting, will be used in train.py\n",
    "\"\"\"\n",
    "\n",
    "from easydict import EasyDict as edict\n",
    "from mindspore import context\n",
    "\n",
    "\n",
    "args = edict({\n",
    "    'device_target': 'CPU',\n",
    "    'data_path': './datasets/MNIST_Data',\n",
    "    'ckpt_path': './ckpt',\n",
    "    'num_classes': 10,\n",
    "    'lr': 0.01,\n",
    "    'momentum': 0.9,\n",
    "    'epoch_size': 1,\n",
    "    'batch_size': 32,\n",
    "    'buffer_size': 1000,\n",
    "    'image_height': 32,                                                                                                                                                                                             \n",
    "    'image_width': 32,\n",
    "    'save_checkpoint_steps': 1875,\n",
    "    'keep_checkpoint_max': 10,\n",
    "    'air_name': \"lenet.air\",\n",
    "})\n",
    "\n",
    "\n",
    "context.set_context(mode=context.GRAPH_MODE, device_target=args.device_target)"
   ]
  },
  {
   "cell_type": "markdown",
   "metadata": {},
   "source": [
    "以下一段代码中定义预训练模型使用的损失函数`CrossEntropyLoss`。"
   ]
  },
  {
   "cell_type": "code",
   "execution_count": 3,
   "metadata": {},
   "outputs": [],
   "source": [
    "import mindspore.nn as nn\n",
    "from mindspore import Tensor\n",
    "from mindspore.ops import functional as F\n",
    "from mindspore.ops import operations as P\n",
    "from mindspore.common import dtype as mstype\n",
    "\n",
    "\n",
    "class CrossEntropyLoss(nn.Cell):\n",
    "    def __init__(self):\n",
    "        super(CrossEntropyLoss, self).__init__()\n",
    "        self.cross_entropy = P.SoftmaxCrossEntropyWithLogits()\n",
    "        self.mean = P.ReduceMean()\n",
    "        self.one_hot = P.OneHot()\n",
    "        self.one = Tensor(1.0, mstype.float32)\n",
    "        self.zero = Tensor(0.0, mstype.float32)\n",
    "\n",
    "    def construct(self, logits, label):\n",
    "        label = self.one_hot(label, F.shape(logits)[1], self.one, self.zero)\n",
    "        loss_func = self.cross_entropy(logits, label)[0]\n",
    "        loss_func = self.mean(loss_func, (-1,))\n",
    "        return loss_func"
   ]
  },
  {
   "cell_type": "markdown",
   "metadata": {},
   "source": [
    "## 数据预处理\n",
    "\n",
    "使用`create_dataset`函数来创建数据集，对数据集进行预处理操作。"
   ]
  },
  {
   "cell_type": "code",
   "execution_count": 4,
   "metadata": {},
   "outputs": [],
   "source": [
    "import mindspore.dataset as ds\n",
    "import mindspore.dataset.vision.c_transforms as CV\n",
    "import mindspore.dataset.transforms.c_transforms as C\n",
    "from mindspore.dataset.vision import Inter\n",
    "from mindspore.common import dtype as mstype\n",
    "import os\n",
    "\n",
    "def create_dataset(data_path, batch_size=32, repeat_size=1,\n",
    "                   num_parallel_workers=1):\n",
    "    \"\"\"\n",
    "    create dataset for train or test\n",
    "    \"\"\"\n",
    "    # define dataset\n",
    "    mnist_ds = ds.MnistDataset(data_path)\n",
    "\n",
    "    resize_height, resize_width = 32, 32\n",
    "    rescale = 1.0 / 255.0\n",
    "    shift = 0.0\n",
    "    rescale_nml = 1 / 0.3081\n",
    "    shift_nml = -1 * 0.1307 / 0.3081\n",
    "\n",
    "    # define map operations\n",
    "    resize_op = CV.Resize((resize_height, resize_width), interpolation=Inter.LINEAR)  # Bilinear mode\n",
    "    rescale_nml_op = CV.Rescale(rescale_nml, shift_nml)\n",
    "    rescale_op = CV.Rescale(rescale, shift)\n",
    "    hwc2chw_op = CV.HWC2CHW()\n",
    "    type_cast_op = C.TypeCast(mstype.int32)\n",
    "\n",
    "    # apply map operations on images\n",
    "    mnist_ds = mnist_ds.map(operations=type_cast_op, input_columns=\"label\", num_parallel_workers=num_parallel_workers)\n",
    "    mnist_ds = mnist_ds.map(operations=resize_op, input_columns=\"image\", num_parallel_workers=num_parallel_workers)\n",
    "    mnist_ds = mnist_ds.map(operations=rescale_op, input_columns=\"image\", num_parallel_workers=num_parallel_workers)\n",
    "    mnist_ds = mnist_ds.map(operations=rescale_nml_op, input_columns=\"image\", num_parallel_workers=num_parallel_workers)\n",
    "    mnist_ds = mnist_ds.map(operations=hwc2chw_op, input_columns=\"image\", num_parallel_workers=num_parallel_workers)\n",
    "\n",
    "    # apply DatasetOps\n",
    "    buffer_size = 10000\n",
    "    mnist_ds = mnist_ds.shuffle(buffer_size=buffer_size)  # 10000 as in LeNet train script\n",
    "    mnist_ds = mnist_ds.batch(batch_size, drop_remainder=True)\n",
    "    mnist_ds = mnist_ds.repeat(repeat_size)\n",
    "\n",
    "    return mnist_ds\n",
    "\n",
    "\n",
    "ds_train = create_dataset(os.path.join(args.data_path, \"train\"), args.batch_size)"
   ]
  },
  {
   "cell_type": "markdown",
   "metadata": {},
   "source": [
    "### 可视化数据集\n",
    "\n",
    "使用`matplotlib`可视化工具查看第一个batch中的32张图像。"
   ]
  },
  {
   "cell_type": "code",
   "execution_count": 5,
   "metadata": {
    "scrolled": true
   },
   "outputs": [
    {
     "name": "stdout",
     "output_type": "stream",
     "text": [
      "The 32 images with label of the first batch in ds_train are showed below:\n"
     ]
    },
    {
     "data": {
      "image/png": "[encoded data removed]",
      "text/plain": [
       "<Figure size 864x576 with 32 Axes>"
      ]
     },
     "metadata": {
      "needs_background": "light"
     },
     "output_type": "display_data"
    }
   ],
   "source": [
    "from matplotlib import pyplot as plt\n",
    "import numpy as np\n",
    "\n",
    "\n",
    "print(\"The 32 images with label of the first batch in ds_train are showed below:\")\n",
    "ds_iterator = ds_train.create_dict_iterator()\n",
    "ds_iterator.get_next()\n",
    "batch_1 = ds_iterator.get_next()\n",
    "batch_image = batch_1[\"image\"].asnumpy()\n",
    "batch_label = batch_1[\"label\"].asnumpy()\n",
    "%matplotlib inline\n",
    "plt.figure(dpi=144)\n",
    "for i,image in enumerate(batch_image):\n",
    "    plt.subplot(4, 8, i+1)\n",
    "    plt.subplots_adjust(wspace=0.2, hspace=0.2)\n",
    "    image = np.transpose(image,(1,2,0))\n",
    "    plt.imshow(image, cmap='gray')\n",
    "    plt.title(f\"image {i+1}\\nlabel: {batch_label[i]}\", y=-0.65, fontdict={\"fontsize\":8})\n",
    "    plt.axis('off')    \n",
    "plt.show()"
   ]
  },
  {
   "cell_type": "markdown",
   "metadata": {},
   "source": [
    "## 定义网络\n",
    "\n",
    "使用下面一段代码定义LeNet网络"
   ]
  },
  {
   "cell_type": "code",
   "execution_count": 6,
   "metadata": {},
   "outputs": [],
   "source": [
    "import mindspore.nn as nn\n",
    "from mindspore.common.initializer import Normal\n",
    "\n",
    "class LeNet5(nn.Cell):\n",
    "    \"\"\"Lenet network structure.\"\"\"\n",
    "    # define the operator required\n",
    "    def __init__(self, num_class=10, num_channel=1):\n",
    "        super(LeNet5, self).__init__()\n",
    "        self.conv1 = nn.Conv2d(num_channel, 6, 5, pad_mode='valid')\n",
    "        self.conv2 = nn.Conv2d(6, 16, 5, pad_mode='valid')\n",
    "        self.fc1 = nn.Dense(16 * 5 * 5, 120, weight_init=Normal(0.02))\n",
    "        self.fc2 = nn.Dense(120, 84, weight_init=Normal(0.02))\n",
    "        self.fc3 = nn.Dense(84, num_class, weight_init=Normal(0.02))\n",
    "        self.relu = nn.ReLU()\n",
    "        self.max_pool2d = nn.MaxPool2d(kernel_size=2, stride=2)\n",
    "        self.flatten = nn.Flatten()\n",
    "\n",
    "    # use the preceding operators to construct networks\n",
    "    def construct(self, x):\n",
    "        x = self.max_pool2d(self.relu(self.conv1(x)))\n",
    "        x = self.max_pool2d(self.relu(self.conv2(x)))\n",
    "        x = self.flatten(x)\n",
    "        x = self.relu(self.fc1(x))\n",
    "        x = self.relu(self.fc2(x))\n",
    "        x = self.fc3(x) \n",
    "        return x"
   ]
  },
  {
   "cell_type": "markdown",
   "metadata": {},
   "source": [
    "## 预训练模型\n",
    "\n",
    "运行以下一段代码进行预训练，生成后续加载模型进行推理或迁移学习所需的预训练模型CheckPoint文件。"
   ]
  },
  {
   "cell_type": "code",
   "execution_count": 7,
   "metadata": {
    "scrolled": true
   },
   "outputs": [
    {
     "name": "stdout",
     "output_type": "stream",
     "text": [
      "============== Starting Training ==============\n",
      "epoch: 1 step: 375, loss is 2.287506\n",
      "epoch: 1 step: 750, loss is 2.3018866\n",
      "epoch: 1 step: 1125, loss is 0.30588606\n",
      "epoch: 1 step: 1500, loss is 0.16174193\n",
      "epoch: 1 step: 1875, loss is 0.005885033\n",
      "Epoch time: 5631.623, per step time: 3.004\n"
     ]
    }
   ],
   "source": [
    "import mindspore.nn as nn\n",
    "from mindspore.train.callback import ModelCheckpoint, CheckpointConfig, LossMonitor, TimeMonitor\n",
    "from mindspore import Model\n",
    "from mindspore.nn.metrics import Accuracy\n",
    "\n",
    "\n",
    "network = LeNet5(args.num_classes)\n",
    "net_loss = CrossEntropyLoss()\n",
    "net_opt = nn.Momentum(network.trainable_params(), args.lr, args.momentum)\n",
    "time_cb = TimeMonitor(data_size=ds_train.get_dataset_size())\n",
    "config_ck = CheckpointConfig(save_checkpoint_steps=args.save_checkpoint_steps,\n",
    "                             keep_checkpoint_max=args.keep_checkpoint_max)\n",
    "ckpoint_cb = ModelCheckpoint(prefix=\"checkpoint_lenet\", directory=args.ckpt_path, config=config_ck)\n",
    "model = Model(network, net_loss, net_opt, metrics={\"Accuracy\": Accuracy()})\n",
    "\n",
    "print(\"============== Starting Training ==============\")\n",
    "model.train(args['epoch_size'], ds_train, callbacks=[time_cb, ckpoint_cb, LossMonitor(per_print_times=375)], dataset_sink_mode=False)"
   ]
  },
  {
   "cell_type": "markdown",
   "metadata": {},
   "source": [
    "预训练完成后，在`ckpt`目录下生成CheckPoint模型文件（`checkpoint_lenet-1_1875.ckpt`文件）。此时`ckpt`目录结构如下："
   ]
  },
  {
   "cell_type": "code",
   "execution_count": 8,
   "metadata": {},
   "outputs": [
    {
     "name": "stdout",
     "output_type": "stream",
     "text": [
      "./ckpt/\n",
      "├── checkpoint_lenet-1_1875.ckpt\n",
      "└── checkpoint_lenet-graph.meta\n",
      "\n",
      "0 directories, 2 files\n"
     ]
    }
   ],
   "source": [
    "!tree ./ckpt/"
   ]
  },
  {
   "cell_type": "markdown",
   "metadata": {},
   "source": [
    "## 加载模型用于推理验证\n",
    "\n",
    "针对仅推理场景可以使用`load_checkpoint`方法把参数直接加载到网络中，以便进行后续的推理验证。\n",
    "\n",
    "使用`load_checkpoint`方法，导入预训练模型文件`checkpoint_lenet-1_1875.ckpt`中的参数到网络中。\n",
    "\n",
    "其中：\n",
    "- `load_checkpoint`方法会把参数文件中的网络参数加载到模型中。加载后，网络中的参数就是CheckPoint保存的参数。\n",
    "- `eval`方法会验证训练后模型的精度。\n",
    "\n",
    "运行以下一段代码，进行本地模型加载进行推理验证，得到推理精度值数据。"
   ]
  },
  {
   "cell_type": "code",
   "execution_count": 9,
   "metadata": {},
   "outputs": [
    {
     "name": "stdout",
     "output_type": "stream",
     "text": [
      "============== Starting Testing ==============\n",
      "============== {'Accuracy': 0.9596354166666666} ==============\n"
     ]
    }
   ],
   "source": [
    "import os\n",
    "import mindspore.nn as nn\n",
    "from mindspore import load_checkpoint, load_param_into_net\n",
    "from mindspore import Model\n",
    "from mindspore.nn.metrics import Accuracy\n",
    "\n",
    "\n",
    "network = LeNet5(args.num_classes)\n",
    "net_loss = CrossEntropyLoss()\n",
    "load_checkpoint(ckpt_file_name=\"./ckpt/checkpoint_lenet-1_1875.ckpt\", net=network)\n",
    "model = Model(network, net_loss, metrics={\"Accuracy\": Accuracy()})\n",
    "\n",
    "print(\"============== Starting Testing ==============\")\n",
    "ds_eval = create_dataset(os.path.join(args.data_path, \"test\"),\n",
    "                         args.batch_size,\n",
    "                         1)\n",
    "\n",
    "acc = model.eval(ds_eval, dataset_sink_mode=False)\n",
    "print(\"============== {} ==============\".format(acc))"
   ]
  },
  {
   "cell_type": "markdown",
   "metadata": {},
   "source": [
    "通过运行的输出结果得到推理精度达到0.96以上。\n",
    "\n",
    "## 加载模型用于迁移学习\n",
    "\n",
    "针对任务中断再训练及微调（Fine Tune）场景，可以加载网络参数和优化器参数到模型中。\n",
    "\n",
    "同理，使用`load_checkpoint`接口导入预训练模型文件`checkpoint_lenet-3_1875.ckpt`，并使用`load_param_into_net`接口将预训练模型参数加载进网络中。\n",
    "\n",
    "其中：\n",
    "- `load_checkpoint`方法会返回一个预训练模型中的参数字典。\n",
    "- `load_param_into_net`会把参数字典中相应的参数加载到网络或优化器中。\n",
    "\n",
    "运行以下一段代码，进行本地模型加载并进行迁移学习（重训练）。在重训练过程中使用损失函数`SoftmaxCrossEntropyWithLogits`。"
   ]
  },
  {
   "cell_type": "code",
   "execution_count": 10,
   "metadata": {},
   "outputs": [
    {
     "name": "stdout",
     "output_type": "stream",
     "text": [
      "============== Starting Training ==============\n",
      "epoch: 1 step: 375, loss is 0.06305931\n",
      "epoch: 1 step: 750, loss is 0.026445452\n",
      "epoch: 1 step: 1125, loss is 0.01774092\n",
      "epoch: 1 step: 1500, loss is 0.053819835\n",
      "epoch: 1 step: 1875, loss is 0.112285875\n",
      "Epoch time: 3666.574, per step time: 1.956\n",
      "epoch: 2 step: 375, loss is 0.04045554\n",
      "epoch: 2 step: 750, loss is 0.055019192\n",
      "epoch: 2 step: 1125, loss is 0.03683358\n",
      "epoch: 2 step: 1500, loss is 0.027128013\n",
      "epoch: 2 step: 1875, loss is 0.13545398\n",
      "Epoch time: 3325.031, per step time: 1.773\n",
      "epoch: 3 step: 375, loss is 0.17666505\n",
      "epoch: 3 step: 750, loss is 0.41875902\n",
      "epoch: 3 step: 1125, loss is 0.009281091\n",
      "epoch: 3 step: 1500, loss is 0.0775549\n",
      "epoch: 3 step: 1875, loss is 0.031013286\n",
      "Epoch time: 3294.365, per step time: 1.757\n"
     ]
    }
   ],
   "source": [
    "network = LeNet5(args.num_classes)\n",
    "net_opt = nn.Momentum(network.trainable_params(), args.lr, args.momentum)\n",
    "# return a parameter dict for model\n",
    "param_dict = load_checkpoint(ckpt_file_name=\"./ckpt/checkpoint_lenet-1_1875.ckpt\")\n",
    "# load the parameter into net\n",
    "load_param_into_net(network, param_dict)\n",
    "# load the parameter into operator\n",
    "load_param_into_net(net_opt, param_dict)\n",
    "net_loss = nn.SoftmaxCrossEntropyWithLogits(sparse=True, reduction=\"mean\")\n",
    "time_cb = TimeMonitor(data_size=ds_train.get_dataset_size())\n",
    "config_ck = CheckpointConfig(save_checkpoint_steps=args.save_checkpoint_steps,\n",
    "                             keep_checkpoint_max=args.keep_checkpoint_max)\n",
    "ckpoint_cb = ModelCheckpoint(prefix=\"checkpoint_lenet\", directory=args.ckpt_path, config=config_ck)\n",
    "model = Model(network, net_loss, net_opt, metrics={\"Accuracy\": Accuracy()})\n",
    "ds_train = create_dataset(os.path.join(args.data_path, \"train\"), args.batch_size)\n",
    "\n",
    "print(\"============== Starting Training ==============\")\n",
    "model.train(3, ds_train, callbacks=[time_cb, ckpoint_cb, LossMonitor(per_print_times=375)], dataset_sink_mode=False)"
   ]
  },
  {
   "cell_type": "markdown",
   "metadata": {},
   "source": [
    "完成重训练后，将在CheckPoint文件保存目录生成新的CheckPoint文件。此时`./ckpt`目录结构为："
   ]
  },
  {
   "cell_type": "code",
   "execution_count": 11,
   "metadata": {},
   "outputs": [
    {
     "name": "stdout",
     "output_type": "stream",
     "text": [
      "./ckpt/\n",
      "├── checkpoint_lenet_1-1_1875.ckpt\n",
      "├── checkpoint_lenet-1_1875.ckpt\n",
      "├── checkpoint_lenet_1-2_1875.ckpt\n",
      "├── checkpoint_lenet_1-3_1875.ckpt\n",
      "├── checkpoint_lenet_1-graph.meta\n",
      "└── checkpoint_lenet-graph.meta\n",
      "\n",
      "0 directories, 6 files\n"
     ]
    }
   ],
   "source": [
    "!tree ./ckpt/"
   ]
  },
  {
   "cell_type": "markdown",
   "metadata": {},
   "source": [
    "可以看出重训练保存的新的CheckPoint文件为`checkpoint_lenet_1-3_1875.ckpt`。\n",
    "\n",
    "运行以下一段代码，使用`eval`方法测试加载模型重训练后的得到的新的模型的精度。"
   ]
  },
  {
   "cell_type": "code",
   "execution_count": 12,
   "metadata": {
    "scrolled": true
   },
   "outputs": [
    {
     "name": "stdout",
     "output_type": "stream",
     "text": [
      "============== Starting Testing ==============\n",
      "============== {'Accuracy': 0.9805689102564102} ==============\n"
     ]
    }
   ],
   "source": [
    "network = LeNet5(args.num_classes)\n",
    "net_loss = nn.SoftmaxCrossEntropyWithLogits(sparse=True, reduction=\"mean\")\n",
    "net_opt = nn.Momentum(network.trainable_params(), args.lr, args.momentum)\n",
    "model = Model(network, net_loss, net_opt, metrics={\"Accuracy\": Accuracy()})\n",
    "\n",
    "print(\"============== Starting Testing ==============\")\n",
    "load_checkpoint(ckpt_file_name=\"./ckpt/checkpoint_lenet_1-3_1875.ckpt\", net=network)\n",
    "ds_eval = create_dataset(os.path.join(args.data_path, \"test\"),\n",
    "                         args.batch_size,\n",
    "                         1)\n",
    "\n",
    "acc = model.eval(ds_eval, dataset_sink_mode=False)\n",
    "print(\"============== {} ==============\".format(acc))"
   ]
  },
  {
   "cell_type": "markdown",
   "metadata": {},
   "source": [
    "通过输出结果，得到重训练后模型的精度达到0.98以上，优于使用预训练得到的模型进行推理的精度。"
   ]
  },
  {
   "cell_type": "markdown",
   "metadata": {},
   "source": [
    "## 总结\n",
    "\n",
    "通过以上流程，完成了在本地加载预训练模型并用于推理验证和迁移学习的体验过程，了解了使用MindSpore的`load_checkpoint`方法和`load_param_into_net`方法加载模型的方式和过程。通过加载模型进行验证或迁移学习，可以在提高精度的同时有效减少训练时间，减小数据集规模，提高开发效率。"
   ]
  }
 ],
 "metadata": {
  "kernelspec": {
   "display_name": "Mindspore-1.0.1",
   "language": "python",
   "name": "mindspore-1.0.1"
  },
  "language_info": {
   "codemirror_mode": {
    "name": "ipython",
    "version": 3
   },
   "file_extension": ".py",
   "mimetype": "text/x-python",
   "name": "python",
   "nbconvert_exporter": "python",
   "pygments_lexer": "ipython3",
   "version": "3.7.5"
  }
 },
 "nbformat": 4,
 "nbformat_minor": 4
}
