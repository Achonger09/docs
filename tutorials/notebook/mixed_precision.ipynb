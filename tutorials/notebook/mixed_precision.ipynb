{
 "cells": [
  {
   "cell_type": "markdown",
   "metadata": {},
   "source": [
    "# <center/>混合精度训练体验"
   ]
  },
  {
   "cell_type": "markdown",
   "metadata": {},
   "source": [
    "## 概述\n",
    "\n",
    "神经网络训练的时候，数据和权重等各种参数一般使用单精度浮点数（float32）进行计算和存储。在采用复杂神经网络进行训练时，由于计算量的增加，机器的内存开销变得非常大。经常玩模型训练的人知道，内存资源的不足会导致训练的效率变低，简单说就是训练变慢，有没有什么比较好的方法，在不提升硬件资源的基础上加快训练呢？这次我们介绍其中一种方法--混合精度训练，说白了就是将参数取其一半长度进行计算，即使用半精度浮点数（float16）计算，这样就能节省一半内存开销。当然，为了保证模型的精度，不能把所有的计算参数都换成半精度。为了兼顾模型精度和训练效率，MindSpore在框架中设置了一个自动混合精度训练的功能，本次体验我们将使用ResNet-50网络进行训练，体验MindSpore混合精度训练和单精度训练的不同之处。"
   ]
  },
  {
   "cell_type": "markdown",
   "metadata": {},
   "source": [
    "整体过程如下："
   ]
  },
  {
   "cell_type": "markdown",
   "metadata": {},
   "source": [
    "1. MindSpore混合精度训练的原理介绍。\n",
    "2. 数据集准备。\n",
    "3. 定义动态学习率。\n",
    "4. 定义损失函数。\n",
    "5. 定义ResNet-50网络。\n",
    "6. 定义`One_Step_Time`回调函数。\n",
    "7. 定义训练网络（此处设置自动混合精度训练参数`amp_level`）。\n",
    "8. 验证模型精度。\n",
    "9. 混合精度训练和单精度训练的对比。"
   ]
  },
  {
   "cell_type": "markdown",
   "metadata": {},
   "source": [
    "> 你可以在这里找到完整可运行的样例代码：<https://gitee.com/mindspore/mindspore/tree/master/model_zoo/official/cv/resnet>。"
   ]
  },
  {
   "cell_type": "markdown",
   "metadata": {},
   "source": [
    "## MindSpore混合精度训练原理介绍"
   ]
  },
  {
   "cell_type": "markdown",
   "metadata": {},
   "source": [
    "![image](https://www.mindspore.cn/tutorial/zh-CN/master/_images/mix_precision.jpg)"
   ]
  },
  {
   "cell_type": "markdown",
   "metadata": {},
   "source": [
    "1. 参数以FP32存储；\n",
    "2. 正向计算过程中，遇到FP16算子，需要把算子输入和参数从FP32 `cast`成FP16进行计算；\n",
    "3. 将Loss层设置为FP32进行计算；\n",
    "4. 反向计算过程中，首先乘以Loss Scale值，避免反向梯度过小而产生下溢；\n",
    "5. FP16参数参与梯度计算，其结果将被cast回FP32；\n",
    "6. 除以`Loss scale`值，还原被放大的梯度；\n",
    "7. 判断梯度是否存在溢出，如果溢出则跳过更新，否则优化器以FP32对原始参数进行更新。"
   ]
  },
  {
   "cell_type": "markdown",
   "metadata": {},
   "source": [
    "从上可以理解(float16为半精度浮点数，float32为单精度浮点数)，MindSpore是将网络中的前向计算部分`cast`成半精度浮点数进行计算，以节省内存空间，提升性能，同时将`loss`值保持单精度浮点数进行计算和存储，`weight`使用半精度浮点数进行计算，单精度浮点数进行保存，通过这样操作即提升了训练效率，又保证了一定的模型精度，达到提升训练性能的目的。"
   ]
  },
  {
   "cell_type": "markdown",
   "metadata": {},
   "source": [
    "## 数据集准备"
   ]
  },
  {
   "cell_type": "markdown",
   "metadata": {},
   "source": [
    "数据集下载地址：<https://www.cd.toronto.edu/~kriz/cifar-10-python.tar.gz>。\n",
    "\n",
    "数据集下载后，解压至jupyter的工作路径+/datasets/cifar10，由于测试数据集和训练数据集在一个文件夹中，需要你分开两个文件夹存放，存放形式如下。"
   ]
  },
  {
   "cell_type": "raw",
   "metadata": {},
   "source": [
    "cifar10\n",
    "├── test\n",
    "│   └── test_batch.bin\n",
    "└── train\n",
    "    ├── data_batch_1.bin\n",
    "    ├── data_batch_2.bin\n",
    "    ├── data_batch_3.bin\n",
    "    ├── data_batch_4.bin\n",
    "    └── data_batch_5.bin\n"
   ]
  },
  {
   "cell_type": "markdown",
   "metadata": {},
   "source": [
    "如果放置正确，可以在开启的jupyter的首页网址+`/tree/datasets/cifar10`，找到`test`和`train`文件夹。"
   ]
  },
  {
   "cell_type": "markdown",
   "metadata": {},
   "source": [
    "### 数据增强"
   ]
  },
  {
   "cell_type": "markdown",
   "metadata": {},
   "source": [
    "先将CIFAR-10的原始数据集可视化："
   ]
  },
  {
   "cell_type": "code",
   "execution_count": 1,
   "metadata": {},
   "outputs": [
    {
     "name": "stdout",
     "output_type": "stream",
     "text": [
      "the cifar dataset size is : 50000\n",
      "the tensor of image is: (32, 32, 3)\n"
     ]
    },
    {
     "data": {
      "image/png": "[encoded data removed]",
      "text/plain": [
       "<Figure size 432x288 with 1 Axes>"
      ]
     },
     "metadata": {
      "needs_background": "light"
     },
     "output_type": "display_data"
    }
   ],
   "source": [
    "import mindspore.dataset.engine as de\n",
    "import matplotlib.pyplot as plt\n",
    "import numpy as np\n",
    "\n",
    "train_path = \"./datasets/cifar10/train\"\n",
    "ds = de.Cifar10Dataset(train_path, num_parallel_workers=8, shuffle=True)\n",
    "print(\"the cifar dataset size is :\", ds.get_dataset_size())\n",
    "dict1 = ds.create_dict_iterator()\n",
    "datas = dict1.get_next()\n",
    "image = datas[\"image\"]\n",
    "print(\"the tensor of image is:\", image.shape)\n",
    "plt.imshow(np.array(image))\n",
    "plt.show()"
   ]
  },
  {
   "cell_type": "markdown",
   "metadata": {},
   "source": [
    "可以看到CIFAR-10总共包含了50000张32×32的彩色图片。"
   ]
  },
  {
   "cell_type": "markdown",
   "metadata": {},
   "source": [
    "### 定义数据增强函数"
   ]
  },
  {
   "cell_type": "code",
   "execution_count": 2,
   "metadata": {},
   "outputs": [],
   "source": [
    "import os\n",
    "import mindspore.common.dtype as mstype\n",
    "import mindspore.dataset.engine as de\n",
    "import mindspore.dataset.transforms.vision.c_transforms as C\n",
    "import mindspore.dataset.transforms.c_transforms as C2\n",
    "\n",
    "def create_dataset(dataset_path, do_train, repeat_num=1, batch_size=32, target=\"GPU\"):\n",
    "    \n",
    "    ds = de.Cifar10Dataset(dataset_path, num_parallel_workers=8, shuffle=True)\n",
    "    \n",
    "    # define map operations\n",
    "    trans = []\n",
    "    if do_train:\n",
    "        trans += [\n",
    "            C.RandomCrop((32, 32), (4, 4, 4, 4)),\n",
    "            C.RandomHorizontalFlip(prob=0.5)\n",
    "        ]\n",
    "\n",
    "    trans += [\n",
    "        C.Resize((224, 224)),\n",
    "        C.Rescale(1.0 / 255.0, 0.0),\n",
    "        C.Normalize([0.4914, 0.4822, 0.4465], [0.2023, 0.1994, 0.2010]),\n",
    "        C.HWC2CHW()\n",
    "    ]\n",
    "\n",
    "    type_cast_op = C2.TypeCast(mstype.int32)\n",
    "\n",
    "    ds = ds.map(input_columns=\"label\", num_parallel_workers=8, operations=type_cast_op)\n",
    "    ds = ds.map(input_columns=\"image\", num_parallel_workers=8, operations=trans)\n",
    "\n",
    "    # apply batch operations\n",
    "    ds = ds.batch(batch_size, drop_remainder=True)\n",
    "    # apply dataset repeat operation\n",
    "    ds = ds.repeat(repeat_num)\n",
    "\n",
    "    return ds"
   ]
  },
  {
   "cell_type": "markdown",
   "metadata": {},
   "source": [
    "定义完成数据集增强函数后，我们来看一下，数据集增强后的效果是如何的："
   ]
  },
  {
   "cell_type": "code",
   "execution_count": 3,
   "metadata": {},
   "outputs": [
    {
     "name": "stdout",
     "output_type": "stream",
     "text": [
      "the cifar dataset size is: 1562\n"
     ]
    },
    {
     "name": "stderr",
     "output_type": "stream",
     "text": [
      "Clipping input data to the valid range for imshow with RGB data ([0..1] for floats or [0..255] for integers).\n"
     ]
    },
    {
     "name": "stdout",
     "output_type": "stream",
     "text": [
      "the tensor of image is: (32, 3, 224, 224)\n"
     ]
    },
    {
     "data": {
      "image/png": "[encoded data removed]",
      "text/plain": [
       "<Figure size 432x288 with 1 Axes>"
      ]
     },
     "metadata": {
      "needs_background": "light"
     },
     "output_type": "display_data"
    }
   ],
   "source": [
    "ds = create_dataset(train_path, do_train=True, repeat_num=1, batch_size=32, target=\"GPU\")\n",
    "print(\"the cifar dataset size is:\", ds.get_dataset_size())\n",
    "dict1 = ds.create_dict_iterator()\n",
    "datas = dict1.get_next()\n",
    "image = datas[\"image\"]\n",
    "single_pic = np.transpose(image[0], (1,2,0))\n",
    "print(\"the tensor of image is:\", image.shape)\n",
    "plt.imshow(np.array(single_pic))\n",
    "plt.show()"
   ]
  },
  {
   "cell_type": "markdown",
   "metadata": {},
   "source": [
    "cifar10通过数据增强后的，变成了一共有1562个batch，张量为(32,3,224,224)的数据集。"
   ]
  },
  {
   "cell_type": "markdown",
   "metadata": {},
   "source": [
    "## 定义动态学习率函数"
   ]
  },
  {
   "cell_type": "markdown",
   "metadata": {},
   "source": [
    "定义动态学习率用于ResNet-50网络训练。"
   ]
  },
  {
   "cell_type": "code",
   "execution_count": 4,
   "metadata": {},
   "outputs": [],
   "source": [
    "import math\n",
    "import numpy as np\n",
    "\n",
    "def get_lr(lr_init, lr_end, lr_max, warmup_epochs, total_epochs, steps_per_epoch, lr_decay_mode):\n",
    "    lr_each_step = []\n",
    "    total_steps = steps_per_epoch * total_epochs\n",
    "    warmup_steps = steps_per_epoch * warmup_epochs\n",
    "    if lr_decay_mode == 'steps':\n",
    "        decay_epoch_index = [0.3 * total_steps, 0.6 * total_steps, 0.8 * total_steps]\n",
    "        for i in range(total_steps):\n",
    "            if i < decay_epoch_index[0]:\n",
    "                lr = lr_max\n",
    "            elif i < decay_epoch_index[1]:\n",
    "                lr = lr_max * 0.1\n",
    "            elif i < decay_epoch_index[2]:\n",
    "                lr = lr_max * 0.01\n",
    "            else:\n",
    "                lr = lr_max * 0.001\n",
    "            lr_each_step.append(lr)\n",
    "            \n",
    "    elif lr_decay_mode == 'poly':\n",
    "        if warmup_steps != 0:\n",
    "            inc_each_step = (float(lr_max) - float(lr_init)) / float(warmup_steps)\n",
    "        else:\n",
    "            inc_each_step = 0\n",
    "        for i in range(total_steps):\n",
    "            if i < warmup_steps:\n",
    "                lr = float(lr_init) + inc_each_step * float(i)\n",
    "            else:\n",
    "                base = (1.0 - (float(i) - float(warmup_steps)) / (float(total_steps) - float(warmup_steps)))\n",
    "                lr = float(lr_max) * base * base\n",
    "                if lr < 0.0:\n",
    "                    lr = 0.0\n",
    "            lr_each_step.append(lr)\n",
    "    else:\n",
    "        for i in range(total_steps):\n",
    "            if i < warmup_steps:\n",
    "                lr = lr_init + (lr_max - lr_init) * i / warmup_steps\n",
    "            else:\n",
    "                lr = lr_max - (lr_max - lr_end) * (i - warmup_steps) / (total_steps - warmup_steps)\n",
    "            lr_each_step.append(lr)\n",
    "\n",
    "    lr_each_step = np.array(lr_each_step).astype(np.float32)\n",
    "\n",
    "    return lr_each_step\n",
    "\n",
    "def linear_warmup_lr(current_step, warmup_steps, base_lr, init_lr):\n",
    "    lr_inc = (float(base_lr) - float(init_lr)) / float(warmup_steps)\n",
    "    lr = float(init_lr) + lr_inc * current_step\n",
    "    return lr\n",
    "\n",
    "def warmup_cosine_annealing_lr(lr, steps_per_epoch, warmup_epochs, max_epoch=120, global_step=0):\n",
    "    base_lr = lr\n",
    "    warmup_init_lr = 0\n",
    "    total_steps = int(max_epoch * steps_per_epoch)\n",
    "    warmup_steps = int(warmup_epochs * steps_per_epoch)\n",
    "    decay_steps = total_steps - warmup_steps\n",
    "\n",
    "    lr_each_step = []\n",
    "    for i in range(total_steps):\n",
    "        if i < warmup_steps:\n",
    "            lr = linear_warmup_lr(i + 1, warmup_steps, base_lr, warmup_init_lr)\n",
    "        else:\n",
    "            linear_decay = (total_steps - i) / decay_steps\n",
    "            cosine_decay = 0.5 * (1 + math.cos(math.pi * 2 * 0.47 * i / decay_steps))\n",
    "            decayed = linear_decay * cosine_decay + 0.00001\n",
    "            lr = base_lr * decayed\n",
    "        lr_each_step.append(lr)\n",
    "\n",
    "    lr_each_step = np.array(lr_each_step).astype(np.float32)\n",
    "    learning_rate = lr_each_step[global_step:]\n",
    "    return learning_rate\n"
   ]
  },
  {
   "cell_type": "markdown",
   "metadata": {},
   "source": [
    "## 定义损失函数"
   ]
  },
  {
   "cell_type": "code",
   "execution_count": 5,
   "metadata": {},
   "outputs": [],
   "source": [
    "from mindspore.nn.loss.loss import _Loss\n",
    "from mindspore.ops import operations as P\n",
    "from mindspore.ops import functional as F\n",
    "from mindspore import Tensor\n",
    "import mindspore.nn as nn\n",
    "\n",
    "class CrossEntropy(_Loss):\n",
    "    def __init__(self, smooth_factor=0., num_classes=1001):\n",
    "        super(CrossEntropy, self).__init__()\n",
    "        self.onehot = P.OneHot()\n",
    "        self.on_value = Tensor(1.0 - smooth_factor, mstype.float32)\n",
    "        self.off_value = Tensor(1.0 * smooth_factor / (num_classes - 1), mstype.float32)\n",
    "        self.ce = nn.SoftmaxCrossEntropyWithLogits()\n",
    "        self.mean = P.ReduceMean(False)\n",
    "\n",
    "    def construct(self, logit, label):\n",
    "        one_hot_label = self.onehot(label, F.shape(logit)[1], self.on_value, self.off_value)\n",
    "        loss = self.ce(logit, one_hot_label)\n",
    "        loss = self.mean(loss, 0)\n",
    "        return loss"
   ]
  },
  {
   "cell_type": "markdown",
   "metadata": {},
   "source": [
    "## 定义深度神经网络"
   ]
  },
  {
   "cell_type": "markdown",
   "metadata": {},
   "source": [
    "本篇使用的MindSpore中的ResNet-50网络模型的源代码。"
   ]
  },
  {
   "cell_type": "code",
   "execution_count": 6,
   "metadata": {},
   "outputs": [],
   "source": [
    "from mindspore.common.tensor import Tensor\n",
    "import mindspore.common.initializer as weight_init\n",
    "\n",
    "def _weight_variable(shape, factor=0.01):\n",
    "    init_value = np.random.randn(*shape).astype(np.float32) * factor\n",
    "    return Tensor(init_value)\n",
    "\n",
    "\n",
    "def _conv3x3(in_channel, out_channel, stride=1):\n",
    "    weight_shape = (out_channel, in_channel, 3, 3)\n",
    "    weight = _weight_variable(weight_shape)\n",
    "    return nn.Conv2d(in_channel, out_channel,\n",
    "                     kernel_size=3, stride=stride, padding=0, pad_mode='same', weight_init=weight)\n",
    "\n",
    "\n",
    "def _conv1x1(in_channel, out_channel, stride=1):\n",
    "    weight_shape = (out_channel, in_channel, 1, 1)\n",
    "    weight = _weight_variable(weight_shape)\n",
    "    return nn.Conv2d(in_channel, out_channel,\n",
    "                     kernel_size=1, stride=stride, padding=0, pad_mode='same', weight_init=weight)\n",
    "\n",
    "\n",
    "def _conv7x7(in_channel, out_channel, stride=1):\n",
    "    weight_shape = (out_channel, in_channel, 7, 7)\n",
    "    weight = _weight_variable(weight_shape)\n",
    "    return nn.Conv2d(in_channel, out_channel,\n",
    "                     kernel_size=7, stride=stride, padding=0, pad_mode='same', weight_init=weight)\n",
    "\n",
    "\n",
    "def _bn(channel):\n",
    "    return nn.BatchNorm2d(channel, eps=1e-4, momentum=0.9,\n",
    "                          gamma_init=1, beta_init=0, moving_mean_init=0, moving_var_init=1)\n",
    "\n",
    "\n",
    "def _bn_last(channel):\n",
    "    return nn.BatchNorm2d(channel, eps=1e-4, momentum=0.9,\n",
    "                          gamma_init=0, beta_init=0, moving_mean_init=0, moving_var_init=1)\n",
    "\n",
    "\n",
    "def _fc(in_channel, out_channel):\n",
    "    weight_shape = (out_channel, in_channel)\n",
    "    weight = _weight_variable(weight_shape)\n",
    "    return nn.Dense(in_channel, out_channel, has_bias=True, weight_init=weight, bias_init=0)\n",
    "\n",
    "\n",
    "class ResidualBlock(nn.Cell):\n",
    "    expansion = 4\n",
    "\n",
    "    def __init__(self,\n",
    "                 in_channel,\n",
    "                 out_channel,\n",
    "                 stride=1):\n",
    "        super(ResidualBlock, self).__init__()\n",
    "\n",
    "        channel = out_channel // self.expansion\n",
    "        self.conv1 = _conv1x1(in_channel, channel, stride=1)\n",
    "        self.bn1 = _bn(channel)\n",
    "\n",
    "        self.conv2 = _conv3x3(channel, channel, stride=stride)\n",
    "        self.bn2 = _bn(channel)\n",
    "\n",
    "        self.conv3 = _conv1x1(channel, out_channel, stride=1)\n",
    "        self.bn3 = _bn_last(out_channel)\n",
    "\n",
    "        self.relu = nn.ReLU()\n",
    "\n",
    "        self.down_sample = False\n",
    "\n",
    "        if stride != 1 or in_channel != out_channel:\n",
    "            self.down_sample = True\n",
    "        self.down_sample_layer = None\n",
    "\n",
    "        if self.down_sample:\n",
    "            self.down_sample_layer = nn.SequentialCell([_conv1x1(in_channel, out_channel, stride),\n",
    "                                                        _bn(out_channel)])\n",
    "        self.add = P.TensorAdd()\n",
    "\n",
    "    def construct(self, x):\n",
    "        identity = x\n",
    "\n",
    "        out = self.conv1(x)\n",
    "        out = self.bn1(out)\n",
    "        out = self.relu(out)\n",
    "\n",
    "        out = self.conv2(out)\n",
    "        out = self.bn2(out)\n",
    "        out = self.relu(out)\n",
    "\n",
    "        out = self.conv3(out)\n",
    "        out = self.bn3(out)\n",
    "\n",
    "        if self.down_sample:\n",
    "            identity = self.down_sample_layer(identity)\n",
    "\n",
    "        out = self.add(out, identity)\n",
    "        out = self.relu(out)\n",
    "\n",
    "        return out\n",
    "\n",
    "class ResNet(nn.Cell):\n",
    "\n",
    "    def __init__(self,\n",
    "                 block,\n",
    "                 layer_nums,\n",
    "                 in_channels,\n",
    "                 out_channels,\n",
    "                 strides,\n",
    "                 num_classes):\n",
    "        super(ResNet, self).__init__()\n",
    "\n",
    "        if not len(layer_nums) == len(in_channels) == len(out_channels) == 4:\n",
    "            raise ValueError(\"the length of layer_num, in_channels, out_channels list must be 4!\")\n",
    "\n",
    "        self.conv1 = _conv7x7(3, 64, stride=2)\n",
    "        self.bn1 = _bn(64)\n",
    "        self.relu = P.ReLU()\n",
    "        self.maxpool = nn.MaxPool2d(kernel_size=3, stride=2, pad_mode=\"same\")\n",
    "\n",
    "        self.layer1 = self._make_layer(block,\n",
    "                                       layer_nums[0],\n",
    "                                       in_channel=in_channels[0],\n",
    "                                       out_channel=out_channels[0],\n",
    "                                       stride=strides[0])\n",
    "        self.layer2 = self._make_layer(block,\n",
    "                                       layer_nums[1],\n",
    "                                       in_channel=in_channels[1],\n",
    "                                       out_channel=out_channels[1],\n",
    "                                       stride=strides[1])\n",
    "        self.layer3 = self._make_layer(block,\n",
    "                                       layer_nums[2],\n",
    "                                       in_channel=in_channels[2],\n",
    "                                       out_channel=out_channels[2],\n",
    "                                       stride=strides[2])\n",
    "        self.layer4 = self._make_layer(block,\n",
    "                                       layer_nums[3],\n",
    "                                       in_channel=in_channels[3],\n",
    "                                       out_channel=out_channels[3],\n",
    "                                       stride=strides[3])\n",
    "\n",
    "        self.mean = P.ReduceMean(keep_dims=True)\n",
    "        self.flatten = nn.Flatten()\n",
    "        self.end_point = _fc(out_channels[3], num_classes)\n",
    "\n",
    "    def _make_layer(self, block, layer_num, in_channel, out_channel, stride):\n",
    "  \n",
    "        layers = []\n",
    "\n",
    "        resnet_block = block(in_channel, out_channel, stride=stride)\n",
    "        layers.append(resnet_block)\n",
    "\n",
    "        for _ in range(1, layer_num):\n",
    "            resnet_block = block(out_channel, out_channel, stride=1)\n",
    "            layers.append(resnet_block)\n",
    "\n",
    "        return nn.SequentialCell(layers)\n",
    "\n",
    "    def construct(self, x):\n",
    "        x = self.conv1(x)\n",
    "        x = self.bn1(x)\n",
    "        x = self.relu(x)\n",
    "        c1 = self.maxpool(x)\n",
    "\n",
    "        c2 = self.layer1(c1)\n",
    "        c3 = self.layer2(c2)\n",
    "        c4 = self.layer3(c3)\n",
    "        c5 = self.layer4(c4)\n",
    "\n",
    "        out = self.mean(c5, (2, 3))\n",
    "        out = self.flatten(out)\n",
    "        out = self.end_point(out)\n",
    "\n",
    "        return out\n",
    "\n",
    "def resnet50(class_num=10):\n",
    "\n",
    "    return ResNet(ResidualBlock,\n",
    "                  [3, 4, 6, 3],\n",
    "                  [64, 256, 512, 1024],\n",
    "                  [256, 512, 1024, 2048],\n",
    "                  [1, 2, 2, 2],\n",
    "                  class_num)\n",
    "\n",
    "def resnet101(class_num=1001):\n",
    "    return ResNet(ResidualBlock,\n",
    "                  [3, 4, 23, 3],\n",
    "                  [64, 256, 512, 1024],\n",
    "                  [256, 512, 1024, 2048],\n",
    "                  [1, 2, 2, 2],\n",
    "                  class_num)"
   ]
  },
  {
   "cell_type": "markdown",
   "metadata": {},
   "source": [
    "### 定义回调函数Time_per_Step来计算单步训练耗时"
   ]
  },
  {
   "cell_type": "markdown",
   "metadata": {},
   "source": [
    "`Time_per_Step`用于计算每步训练的时间消耗情况，方便对比混合精度训练和单精度训练的性能区别。"
   ]
  },
  {
   "cell_type": "code",
   "execution_count": 7,
   "metadata": {},
   "outputs": [],
   "source": [
    "from mindspore.train.callback import Callback\n",
    "import time\n",
    "\n",
    "class Time_per_Step(Callback):\n",
    "    def step_begin(self, run_context):\n",
    "        cb_params = run_context.original_args()\n",
    "        cb_params.init_time = time.time()\n",
    "        \n",
    "    def step_end(selfself, run_context):\n",
    "        cb_params = run_context.original_args()\n",
    "        one_step_time = (time.time() - cb_params.init_time) * 1000\n",
    "        print(one_step_time, \"ms\")"
   ]
  },
  {
   "cell_type": "markdown",
   "metadata": {},
   "source": [
    "## 定义训练网络"
   ]
  },
  {
   "cell_type": "markdown",
   "metadata": {},
   "source": [
    "### 设置混合精度训练并执行训练"
   ]
  },
  {
   "cell_type": "markdown",
   "metadata": {},
   "source": [
    "由于MindSpore已经添加了自动混合精度训练功能，我们这里操作起来非常方便，只需要在Model中添加参数`amp_level=O2`就完成了设置GPU模式下的混合精度训练设置。运行时，将会自动混合精度训练模型。\n",
    "\n",
    "`amp_level`的参数详情：\n",
    "\n",
    "`O0`：表示不做任何变化，即单精度训练，系统默认`O0`。\n",
    "\n",
    "`O2`：表示将网络中的参数计算变为float16。适用于GPU环境。\n",
    "\n",
    "`O3`：表示将网络中的参数计算变为float16，同时需要在Model中添加参数`keep_batchnorm_fp32=False`。适用于Ascend环境。\n",
    "\n",
    "在`Model`中设置`amp_level=O2`后即可执行混合精度训练："
   ]
  },
  {
   "cell_type": "code",
   "execution_count": 8,
   "metadata": {
    "scrolled": true
   },
   "outputs": [
    {
     "name": "stdout",
     "output_type": "stream",
     "text": [
      "epoch: 1 step: 1, loss is 2.3015203\n",
      "37518.837213516235 ms\n",
      "epoch: 1 step: 2, loss is 2.3068979\n",
      "197.05581665039062 ms\n",
      "epoch: 1 step: 3, loss is 2.3115108\n",
      "189.01705741882324 ms\n",
      "epoch: 1 step: 4, loss is 2.3279507\n",
      "188.4777545928955 ms\n",
      "epoch: 1 step: 5, loss is 2.2853572\n",
      "188.50111961364746 ms\n",
      "epoch: 1 step: 6, loss is 2.2706618\n",
      "188.63296508789062 ms\n",
      "epoch: 1 step: 7, loss is 2.325651\n",
      "213.5298252105713 ms\n",
      "epoch: 1 step: 8, loss is 2.3179858\n",
      "188.95459175109863 ms\n",
      "epoch: 1 step: 9, loss is 2.3060834\n",
      "193.02725791931152 ms\n",
      "epoch: 1 step: 10, loss is 2.39061\n",
      "192.83699989318848 ms\n",
      "\n",
      "\n",
      "......\n",
      "\n",
      "\n",
      "epoch: 8 step: 323, loss is 0.54335135\n",
      "190.31238555908203 ms\n",
      "epoch: 8 step: 324, loss is 0.2202819\n",
      "190.30189514160156 ms\n",
      "\n",
      "\n",
      "......\n",
      "\n",
      "\n",
      "epoch: 10 step: 1545, loss is 0.21533835\n",
      "192.63434410095215 ms\n",
      "epoch: 10 step: 1546, loss is 0.14042784\n",
      "192.5680637359619 ms\n",
      "epoch: 10 step: 1547, loss is 0.14810953\n",
      "192.64483451843262 ms\n",
      "epoch: 10 step: 1548, loss is 0.3791172\n",
      "192.7051544189453 ms\n",
      "epoch: 10 step: 1549, loss is 0.43446764\n",
      "192.60406494140625 ms\n",
      "epoch: 10 step: 1550, loss is 0.16453475\n",
      "192.5489902496338 ms\n",
      "epoch: 10 step: 1551, loss is 0.43192416\n",
      "192.45147705078125 ms\n",
      "epoch: 10 step: 1552, loss is 0.15318932\n",
      "192.69466400146484 ms\n",
      "epoch: 10 step: 1553, loss is 0.18142739\n",
      "192.4266815185547 ms\n",
      "epoch: 10 step: 1554, loss is 0.23418093\n",
      "191.3902759552002 ms\n",
      "epoch: 10 step: 1555, loss is 0.21376474\n",
      "190.4129981994629 ms\n",
      "epoch: 10 step: 1556, loss is 0.26256102\n",
      "190.1836395263672 ms\n",
      "epoch: 10 step: 1557, loss is 0.11623224\n",
      "190.07587432861328 ms\n",
      "epoch: 10 step: 1558, loss is 0.38422704\n",
      "190.2308464050293 ms\n",
      "epoch: 10 step: 1559, loss is 0.1297225\n",
      "190.05846977233887 ms\n",
      "epoch: 10 step: 1560, loss is 0.03785105\n",
      "189.89896774291992 ms\n",
      "epoch: 10 step: 1561, loss is 0.2947039\n",
      "190.0768280029297 ms\n",
      "epoch: 10 step: 1562, loss is 0.41113874\n",
      "190.03891944885254 ms\n",
      "Epoch time: 302610.106, per step time: 193.732\n"
     ]
    }
   ],
   "source": [
    "\"\"\"train ResNet-50\"\"\"\n",
    "import os\n",
    "import random\n",
    "import argparse\n",
    "from mindspore import context\n",
    "from mindspore.nn.optim.momentum import Momentum\n",
    "from mindspore.train.model import Model\n",
    "from mindspore.train.callback import ModelCheckpoint, CheckpointConfig, LossMonitor, TimeMonitor\n",
    "from mindspore.nn.loss import SoftmaxCrossEntropyWithLogits\n",
    "from mindspore.train.loss_scale_manager import FixedLossScaleManager\n",
    "from mindspore.train.serialization import load_checkpoint, load_param_into_net\n",
    "\n",
    "\n",
    "\n",
    "parser = argparse.ArgumentParser(description='Image classification')\n",
    "parser.add_argument('--net', type=str, default=\"resnet50\", help='Resnet Model, either resnet50 or resnet101')\n",
    "parser.add_argument('--dataset', type=str, default=\"cifar10\", help='Dataset, either cifar10 or imagenet2012')\n",
    "parser.add_argument('--run_distribute', type=bool, default=False, help='Run distribute')\n",
    "parser.add_argument('--device_target', type=str, default='GPU', help='Device target')\n",
    "parser.add_argument('--pre_trained', type=str, default=None, help='Pretrained checkpoint path')\n",
    "args_opt = parser.parse_known_args()[0]\n",
    "\n",
    "random.seed(1)\n",
    "np.random.seed(1)\n",
    "de.config.set_seed(1)\n",
    "\n",
    "if __name__ == '__main__':\n",
    "\n",
    "    context.set_context(mode=context.GRAPH_MODE,enable_auto_mixed_precision=False, device_target=\"GPU\")\n",
    "    ckpt_save_dir= \"./resnet_ckpt\"\n",
    "    batch_size = 32\n",
    "    epoch_size = 10\n",
    "    dataset_path = \"./datasets/cifar10/train\"\n",
    "    test_path = \"./datasets/cifar10/test\"\n",
    "    \n",
    "    # create dataset\n",
    "    dataset = create_dataset(dataset_path=dataset_path, do_train=True, repeat_num=1,\n",
    "                                 batch_size=batch_size, target=\"GPU\")\n",
    "    step_size = dataset.get_dataset_size()\n",
    "    # define net\n",
    "    net = resnet50(class_num=10)\n",
    "    \n",
    "    # init weight\n",
    "    if args_opt.pre_trained:\n",
    "        param_dict = load_checkpoint(args_opt.pre_trained)\n",
    "        load_param_into_net(net, param_dict)\n",
    "    else:\n",
    "        for _, cell in net.cells_and_names():\n",
    "            if isinstance(cell, nn.Conv2d):\n",
    "                cell.weight.default_input = weight_init.initializer(weight_init.XavierUniform(),\n",
    "                                                                    cell.weight.default_input.shape,\n",
    "                                                                    cell.weight.default_input.dtype).to_tensor()\n",
    "            if isinstance(cell, nn.Dense):\n",
    "                cell.weight.default_input = weight_init.initializer(weight_init.TruncatedNormal(),\n",
    "                                                                    cell.weight.default_input.shape,\n",
    "                                                                    cell.weight.default_input.dtype).to_tensor()\n",
    "    # init lr\n",
    "    warmup_epochs = 5\n",
    "    lr_init = 0.01\n",
    "    lr_end = 0.00001\n",
    "    lr_max = 0.1\n",
    "    lr = get_lr(lr_init=lr_init, lr_end=lr_end, lr_max=lr_max,\n",
    "                        warmup_epochs=warmup_epochs, total_epochs=epoch_size, steps_per_epoch=step_size,\n",
    "                        lr_decay_mode='poly')\n",
    "    lr = Tensor(lr)\n",
    "\n",
    "    # define opt\n",
    "    loss_scale = 1024\n",
    "    momentum = 0.9\n",
    "    weight_decay = 1e-4\n",
    "    \n",
    "    # define loss, model\n",
    "    loss = SoftmaxCrossEntropyWithLogits(sparse=True, reduction='mean')\n",
    "    opt = Momentum(filter(lambda x: x.requires_grad, net.get_parameters()), lr, momentum)\n",
    "    model = Model(net, loss_fn=loss, optimizer=opt, metrics={'acc'},amp_level=\"O2\")\n",
    "    \n",
    "    # define callbacks\n",
    "    steptime_cb = Time_per_Step()\n",
    "    time_cb = TimeMonitor(data_size=step_size)\n",
    "    loss_cb = LossMonitor()\n",
    "\n",
    "    cb = [time_cb, loss_cb,steptime_cb]\n",
    "    save_checkpoint = 5\n",
    "    if save_checkpoint:\n",
    "        save_checkpoint_epochs = 5\n",
    "        keep_checkpoint_max = 10\n",
    "        config_ck = CheckpointConfig(save_checkpoint_steps=save_checkpoint_epochs * step_size,\n",
    "                                     keep_checkpoint_max=keep_checkpoint_max)\n",
    "        ckpt_cb = ModelCheckpoint(prefix=\"resnet\", directory=ckpt_save_dir, config=config_ck)\n",
    "        cb += [ckpt_cb]\n",
    "\n",
    "    # train model\n",
    "    model.train(epoch_size, dataset, callbacks=cb, dataset_sink_mode=True)"
   ]
  },
  {
   "cell_type": "markdown",
   "metadata": {},
   "source": [
    "### 验证模型精度"
   ]
  },
  {
   "cell_type": "markdown",
   "metadata": {},
   "source": [
    "使用模型进行精度验证可以得出以下代码。"
   ]
  },
  {
   "cell_type": "code",
   "execution_count": 9,
   "metadata": {},
   "outputs": [
    {
     "name": "stdout",
     "output_type": "stream",
     "text": [
      "Accuracy: {'acc': 0.8796073717948718}\n"
     ]
    }
   ],
   "source": [
    "# Eval model\n",
    "eval_dataset_path = \"./datasets/cifar10/test\"\n",
    "eval_data = create_dataset(eval_dataset_path,do_train=False)\n",
    "acc = model.eval(eval_data,dataset_sink_mode=True)\n",
    "print(\"Accuracy:\",acc)"
   ]
  },
  {
   "cell_type": "markdown",
   "metadata": {},
   "source": [
    "## 对比不同网络下的混合精度训练和单精度训练的差别"
   ]
  },
  {
   "cell_type": "markdown",
   "metadata": {},
   "source": [
    "由于篇幅原因，我们这里只展示了ResNet-50网络的混合精度训练情况。可以在主程序入口的Model中设置参数`amp_level = O0`进行单精度训练，训练完毕后，将结果进行对比，看看两者的情况，下面将我测试的情况做成表格如下。（训练时，笔者使用的GPU为Nvidia Tesla P40，不同的硬件对训练的效率影响较大，下述表格中的数据仅供参考）"
   ]
  },
  {
   "cell_type": "markdown",
   "metadata": {},
   "source": [
    "|  网络 | 是否混合训练 | 单步训练时间 | epoch | Accuracy\n",
    "|:------  |:-----| :------- |:--- |:------  \n",
    "|ResNet-50 |  否  | 232ms   |  10 |  0.881809 \n",
    "|ResNet-50 |  是  | 192ms   |  10 |  0.879607 "
   ]
  },
  {
   "cell_type": "markdown",
   "metadata": {},
   "source": [
    "经过多次测试，使用ResNet-50网络,CIFAR-10数据集，进行混合精度训练对整体的训练效率提升了16%，而且对最终模型的精度影响不大，对整体性能调优来说是一个不容忽视的性能提升。"
   ]
  },
  {
   "cell_type": "markdown",
   "metadata": {},
   "source": [
    "当然，如果你想参考单步训练或者手动设置混合精度训练，可以参考官网教程<https://www.mindspore.cn/tutorial/zh-CN/master/advanced_use/mixed_precision.html>。"
   ]
  },
  {
   "cell_type": "markdown",
   "metadata": {},
   "source": [
    "## 总结"
   ]
  },
  {
   "cell_type": "markdown",
   "metadata": {},
   "source": [
    "本次体验我们尝试了在ResNet-50网络中使用混合精度来进行模型训练，并对比了单精度下的训练过程，了解到了混合精度训练的原理和对模型训练的提升效果。"
   ]
  }
 ],
 "metadata": {
  "kernelspec": {
   "display_name": "Python 3",
   "language": "python",
   "name": "python3"
  },
  "language_info": {
   "codemirror_mode": {
    "name": "ipython",
    "version": 3
   },
   "file_extension": ".py",
   "mimetype": "text/x-python",
   "name": "python",
   "nbconvert_exporter": "python",
   "pygments_lexer": "ipython3",
   "version": "3.7.6"
  }
 },
 "nbformat": 4,
 "nbformat_minor": 4
}
