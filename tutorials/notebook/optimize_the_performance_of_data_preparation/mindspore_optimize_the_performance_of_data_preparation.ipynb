{
 "cells": [
  {
   "cell_type": "markdown",
   "metadata": {},
   "source": [
    "# <center/>优化数据准备的性能"
   ]
  },
  {
   "cell_type": "markdown",
   "metadata": {},
   "source": [
    "## 概述\n",
    "\n",
    "数据是整个深度学习中最重要的一环，因为数据的好坏决定了最终结果的上限，模型的好坏只是去无限逼近这个上限，所以高质量的数据输入，会在整个深度神经网络中起到积极作用，数据在整个数据处理和数据增强的过程像经过pipeline管道的水一样，源源不断地流向训练系统，如图所示："
   ]
  },
  {
   "cell_type": "markdown",
   "metadata": {},
   "source": [
    "![title](https://gitee.com/mindspore/docs/raw/master/tutorials/notebook/optimize_the_performance_of_data_preparation/images/pipeline.png)"
   ]
  },
  {
   "cell_type": "markdown",
   "metadata": {},
   "source": [
    "MindSpore为用户提供了数据处理以及数据增强的功能，在数据的整个pipeline过程中，其中的每一步骤，如果都能够进行合理的运用，那么数据的性能会得到很大的优化和提升。本次体验将基于CIFAR-10数据集来为大家展示如何在数据加载、数据处理和数据增强的过程中进行性能的优化。"
   ]
  },
  {
   "cell_type": "markdown",
   "metadata": {},
   "source": [
    "## 整体流程\n",
    "- 准备环节。\n",
    "- 数据加载性能优化。\n",
    "- shuffle性能优化。\n",
    "- 数据增强性能优化。\n",
    "- 性能优化方案总结。"
   ]
  },
  {
   "cell_type": "markdown",
   "metadata": {},
   "source": [
    "## 准备环节"
   ]
  },
  {
   "cell_type": "markdown",
   "metadata": {},
   "source": [
    "### 导入模块"
   ]
  },
  {
   "cell_type": "markdown",
   "metadata": {},
   "source": [
    "`dataset`模块提供API用来加载和处理数据集。"
   ]
  },
  {
   "cell_type": "code",
   "execution_count": 1,
   "metadata": {},
   "outputs": [],
   "source": [
    "import mindspore.dataset as ds"
   ]
  },
  {
   "cell_type": "markdown",
   "metadata": {},
   "source": [
    "`numpy`模块用于生成ndarray数组。"
   ]
  },
  {
   "cell_type": "code",
   "execution_count": 2,
   "metadata": {},
   "outputs": [],
   "source": [
    "import numpy as np"
   ]
  },
  {
   "cell_type": "markdown",
   "metadata": {},
   "source": [
    "### 下载所需数据集"
   ]
  },
  {
   "cell_type": "markdown",
   "metadata": {},
   "source": [
    "运行以下命令来获取数据集："
   ]
  },
  {
   "cell_type": "code",
   "execution_count": 3,
   "metadata": {},
   "outputs": [
    {
     "name": "stdout",
     "output_type": "stream",
     "text": [
      "--2020-12-02 16:14:43--  https://obs.dualstack.cn-north-4.myhuaweicloud.com/mindspore-website/notebook/datasets/cifar10.zip\n",
      "Resolving proxy-notebook.modelarts-dev-proxy.com (proxy-notebook.modelarts-dev-proxy.com)... 192.168.0.172\n",
      "Connecting to proxy-notebook.modelarts-dev-proxy.com (proxy-notebook.modelarts-dev-proxy.com)|192.168.0.172|:8083... connected.\n",
      "Proxy request sent, awaiting response... 200 OK\n",
      "Length: 166235630 (159M) [application/zip]\n",
      "Saving to: ‘cifar10.zip’\n",
      "\n",
      "cifar10.zip         100%[===================>] 158.53M  59.5MB/s    in 2.7s    \n",
      "\n",
      "2020-12-02 16:14:46 (59.5 MB/s) - ‘cifar10.zip’ saved [166235630/166235630]\n",
      "\n",
      "Archive:  cifar10.zip\n",
      "   creating: ./datasets/cifar10/\n",
      "   creating: ./datasets/cifar10/test/\n",
      "  inflating: ./datasets/cifar10/test/test_batch.bin  \n",
      "   creating: ./datasets/cifar10/train/\n",
      "  inflating: ./datasets/cifar10/train/batches.meta.txt  \n",
      "  inflating: ./datasets/cifar10/train/data_batch_1.bin  \n",
      "  inflating: ./datasets/cifar10/train/data_batch_2.bin  \n",
      "  inflating: ./datasets/cifar10/train/data_batch_3.bin  \n",
      "  inflating: ./datasets/cifar10/train/data_batch_4.bin  \n",
      "  inflating: ./datasets/cifar10/train/data_batch_5.bin  \n",
      "./datasets/cifar10\n",
      "├── test\n",
      "│   └── test_batch.bin\n",
      "└── train\n",
      "    ├── batches.meta.txt\n",
      "    ├── data_batch_1.bin\n",
      "    ├── data_batch_2.bin\n",
      "    ├── data_batch_3.bin\n",
      "    ├── data_batch_4.bin\n",
      "    └── data_batch_5.bin\n",
      "\n",
      "2 directories, 7 files\n"
     ]
    }
   ],
   "source": [
    "! wget -N https://obs.dualstack.cn-north-4.myhuaweicloud.com/mindspore-website/notebook/datasets/cifar10.zip\n",
    "! unzip -o cifar10.zip -d ./datasets\n",
    "! tree ./datasets/cifar10"
   ]
  },
  {
   "cell_type": "code",
   "execution_count": 4,
   "metadata": {},
   "outputs": [
    {
     "name": "stdout",
     "output_type": "stream",
     "text": [
      "--2020-12-02 16:15:16--  https://obs.dualstack.cn-north-4.myhuaweicloud.com/mindspore-website/notebook/datasets/cifar10-py.zip\n",
      "Resolving proxy-notebook.modelarts-dev-proxy.com (proxy-notebook.modelarts-dev-proxy.com)... 192.168.0.172\n",
      "Connecting to proxy-notebook.modelarts-dev-proxy.com (proxy-notebook.modelarts-dev-proxy.com)|192.168.0.172|:8083... connected.\n",
      "Proxy request sent, awaiting response... 200 OK\n",
      "Length: 170647614 (163M) [application/zip]\n",
      "Saving to: ‘cifar10-py.zip’\n",
      "\n",
      "cifar10-py.zip      100%[===================>] 162.74M   149MB/s    in 1.1s    \n",
      "\n",
      "2020-12-02 16:15:17 (149 MB/s) - ‘cifar10-py.zip’ saved [170647614/170647614]\n",
      "\n",
      "Archive:  cifar10-py.zip\n",
      "   creating: ./datasets/cifar-10-batches-py/\n",
      "  inflating: ./datasets/cifar-10-batches-py/batches.meta  \n",
      "  inflating: ./datasets/cifar-10-batches-py/data_batch_1  \n",
      "  inflating: ./datasets/cifar-10-batches-py/data_batch_2  \n",
      "  inflating: ./datasets/cifar-10-batches-py/data_batch_3  \n",
      "  inflating: ./datasets/cifar-10-batches-py/data_batch_4  \n",
      "  inflating: ./datasets/cifar-10-batches-py/data_batch_5  \n",
      "  inflating: ./datasets/cifar-10-batches-py/readme.html  \n",
      "  inflating: ./datasets/cifar-10-batches-py/test_batch  \n",
      "./datasets/cifar-10-batches-py\n",
      "├── batches.meta\n",
      "├── data_batch_1\n",
      "├── data_batch_2\n",
      "├── data_batch_3\n",
      "├── data_batch_4\n",
      "├── data_batch_5\n",
      "├── readme.html\n",
      "└── test_batch\n",
      "\n",
      "0 directories, 8 files\n"
     ]
    }
   ],
   "source": [
    "! wget -N https://obs.dualstack.cn-north-4.myhuaweicloud.com/mindspore-website/notebook/datasets/cifar10-py.zip\n",
    "! unzip -o cifar10-py.zip -d ./datasets\n",
    "! tree ./datasets/cifar-10-batches-py"
   ]
  },
  {
   "cell_type": "markdown",
   "metadata": {},
   "source": [
    "## 数据加载性能优化"
   ]
  },
  {
   "cell_type": "markdown",
   "metadata": {},
   "source": [
    "MindSpore为用户提供了多种数据加载方式，其中包括常用数据集加载、用户自定义数据集加载、MindSpore数据格式加载，详情内容请参考[加载数据集](https://www.mindspore.cn/doc/programming_guide/zh-CN/master/dataset_loading.html)。对于数据集加载，底层实现方式的不同，会导致数据集加载的性能存在差异，如下所示："
   ]
  },
  {
   "cell_type": "markdown",
   "metadata": {},
   "source": [
    "|      | 常用数据集 | 用户自定义 | MindRecord |\n",
    "| :----: | :----: | :----: | :----: |\n",
    "| 底层实现 | C++ | Python | C++ |\n",
    "| 性能 | 高 | 中 | 高|"
   ]
  },
  {
   "cell_type": "markdown",
   "metadata": {},
   "source": [
    "### 性能优化方案"
   ]
  },
  {
   "cell_type": "markdown",
   "metadata": {},
   "source": [
    "![title](https://gitee.com/mindspore/docs/raw/master/tutorials/notebook/optimize_the_performance_of_data_preparation/images/data_loading_performance_scheme.png)"
   ]
  },
  {
   "cell_type": "markdown",
   "metadata": {},
   "source": [
    "数据加载性能优化建议如下：\n",
    "- 已经支持的数据集格式优选内置加载算子，具体内容请参考[内置加载算子](https://www.mindspore.cn/doc/api_python/zh-CN/master/mindspore/mindspore.dataset.html)，如果性能仍无法满足需求，则可采取多线程并发方案，请参考本文[多线程优化方案](#多线程优化方案)。\n",
    "- 不支持的数据集格式，优选转换为MindSpore数据格式后再使用`MindDataset`类进行加载，具体内容请参考[将数据集转换为MindSpore数据格式](https://www.mindspore.cn/tutorial/training/zh-CN/master/advanced_use/convert_dataset.html)，如果性能仍无法满足需求，则可采取多线程并发方案，请参考本文[多线程优化方案](#多线程优化方案)。\n",
    "- 不支持的数据集格式，算法快速验证场景，优选用户自定义`GeneratorDataset`类实现，如果性能仍无法满足需求，则可采取多进程并发方案，请参考本文[多进程优化方案](#多进程优化方案)。"
   ]
  },
  {
   "cell_type": "markdown",
   "metadata": {},
   "source": [
    "### 代码示例\n",
    "\n",
    "基于以上的数据加载性能优化建议，本次体验分别使用内置加载算子`Cifar10Dataset`类、数据转换后使用`MindDataset`类、使用`GeneratorDataset`类进行数据加载，代码演示如下："
   ]
  },
  {
   "cell_type": "markdown",
   "metadata": {},
   "source": [
    "1. 使用内置算子`Cifar10Dataset`类加载CIFAR-10数据集，这里使用的是CIFAR-10二进制格式的数据集，加载数据时采取多线程优化方案，开启了4个线程并发完成任务，最后对数据创建了字典迭代器，并通过迭代器读取了一条数据记录。"
   ]
  },
  {
   "cell_type": "code",
   "execution_count": 5,
   "metadata": {},
   "outputs": [
    {
     "name": "stdout",
     "output_type": "stream",
     "text": [
      "{'image': Tensor(shape=[32, 32, 3], dtype=UInt8, value=\n",
      "[[[136, 135,  98],\n",
      "  [119, 113,  86],\n",
      "  [ 93,  83,  64],\n",
      "  ...\n",
      "  [220, 223, 178],\n",
      "  [216, 223, 173],\n",
      "  [219, 226, 190]],\n",
      " [[145, 139, 107],\n",
      "  [119, 108,  84],\n",
      "  [ 95,  81,  62],\n",
      "  ...\n",
      "  [219, 223, 187],\n",
      "  [214, 222, 178],\n",
      "  [215, 224, 192]],\n",
      " [[117, 112,  84],\n",
      "  [ 95,  85,  62],\n",
      "  [ 88,  75,  55],\n",
      "  ...\n",
      "  [188, 193, 167],\n",
      "  [184, 192, 157],\n",
      "  [178, 189, 163]],\n",
      " ...\n",
      " [[ 23,  31,  42],\n",
      "  [ 17,  27,  34],\n",
      "  [ 13,  26,  32],\n",
      "  ...\n",
      "  [152, 202, 225],\n",
      "  [141, 193, 214],\n",
      "  [128, 175, 194]],\n",
      " [[ 30,  44,  49],\n",
      "  [ 23,  41,  45],\n",
      "  [ 19,  39,  43],\n",
      "  ...\n",
      "  [158, 207, 228],\n",
      "  [141, 195, 211],\n",
      "  [121, 171, 185]],\n",
      " [[ 47,  63,  68],\n",
      "  [ 40,  59,  63],\n",
      "  [ 35,  57,  60],\n",
      "  ...\n",
      "  [164, 210, 228],\n",
      "  [141, 191, 205],\n",
      "  [130, 177, 189]]]), 'label': Tensor(shape=[], dtype=UInt32, value= 9)}\n"
     ]
    }
   ],
   "source": [
    "cifar10_path = \"./datasets/cifar10/train\"\n",
    "\n",
    "# create Cifar10Dataset for reading data\n",
    "cifar10_dataset = ds.Cifar10Dataset(cifar10_path,num_parallel_workers=4)\n",
    "# create a dictionary iterator and read a data record through the iterator\n",
    "print(next(cifar10_dataset.create_dict_iterator()))"
   ]
  },
  {
   "cell_type": "markdown",
   "metadata": {},
   "source": [
    "2. 使用`Cifar10ToMR`这个类将CIFAR-10数据集转换为MindSpore数据格式，这里使用的是CIFAR-10 python文件格式的数据集，然后使用`MindDataset`类加载MindSpore数据格式数据集，加载数据采取多线程优化方案，开启了4个线程并发完成任务，最后对数据创建了字典迭代器，并通过迭代器读取了一条数据记录。"
   ]
  },
  {
   "cell_type": "code",
   "execution_count": 6,
   "metadata": {},
   "outputs": [
    {
     "name": "stdout",
     "output_type": "stream",
     "text": [
      "{'data': Tensor(shape=[1275], dtype=UInt8, value= [255, 216, 255, 224,   0,  16,  74,  70,  73,  70,   0,   1,   1,   0,   0,   1,   0,   1,   0,   0, 255, 219,   0,  67, \n",
      "   0,   2,   1,   1,   1,   1,   1,   2,   1,   1,   1,   2,   2,   2,   2,   2,   4,   3,   2,   2,   2,   2,   5,   4, \n",
      "   4,   3,   4,   6,   5,   6,   6,   6,   5,   6,   6,   6,   7,   9,   8,   6,   7,   9,   7,   6,   6,   8,  11,   8, \n",
      "   9,  10,  10,  10,  10,  10,   6,   8,  11,  12,  11,  10,  12,   9,  10,  10,  10, 255, 219,   0,  67,   1,   2,   2, \n",
      "   2,   2,   2,   2,   5,   3,   3,   5,  10,   7,   6,   7,  10,  10,  10,  10,  10,  10,  10,  10,  10,  10,  10,  10, \n",
      "  10,  10,  10,  10,  10,  10,  10,  10,  10,  10,  10,  10,  10,  10,  10,  10,  10,  10,  10,  10,  10,  10,  10,  10, \n",
      "  10,  10,  10,  10,  10,  10,  10,  10,  10,  10,  10,  10,  10,  10, 255, 192,   0,  17,   8,   0,  32,   0,  32,   3, \n",
      "   1,  34,   0,   2,  17,   1,   3,  17,   1, 255, 196,   0,  31,   0,   0,   1,   5,   1,   1,   1,   1,   1,   1,   0, \n",
      "   0,   0,   0,   0,   0,   0,   0,   1,   2,   3,   4,   5,   6,   7,   8,   9,  10,  11, 255, 196,   0, 181,  16,   0, \n",
      "   2,   1,   3,   3,   2,   4,   3,   5,   5,   4,   4,   0,   0,   1, 125,   1,   2,   3,   0,   4,  17,   5,  18,  33, \n",
      "  49,  65,   6,  19,  81,  97,   7,  34, 113,  20,  50, 129, 145, 161,   8,  35,  66, 177, 193,  21,  82, 209, 240,  36, \n",
      "  51,  98, 114, 130,   9,  10,  22,  23,  24,  25,  26,  37,  38,  39,  40,  41,  42,  52,  53,  54,  55,  56,  57,  58, \n",
      "  67,  68,  69,  70,  71,  72,  73,  74,  83,  84,  85,  86,  87,  88,  89,  90,  99, 100, 101, 102, 103, 104, 105, 106, \n",
      " 115, 116, 117, 118, 119, 120, 121, 122, 131, 132, 133, 134, 135, 136, 137, 138, 146, 147, 148, 149, 150, 151, 152, 153, \n",
      " 154, 162, 163, 164, 165, 166, 167, 168, 169, 170, 178, 179, 180, 181, 182, 183, 184, 185, 186, 194, 195, 196, 197, 198, \n",
      " 199, 200, 201, 202, 210, 211, 212, 213, 214, 215, 216, 217, 218, 225, 226, 227, 228, 229, 230, 231, 232, 233, 234, 241, \n",
      " 242, 243, 244, 245, 246, 247, 248, 249, 250, 255, 196,   0,  31,   1,   0,   3,   1,   1,   1,   1,   1,   1,   1,   1, \n",
      "   1,   0,   0,   0,   0,   0,   0,   1,   2,   3,   4,   5,   6,   7,   8,   9,  10,  11, 255, 196,   0, 181,  17,   0, \n",
      "   2,   1,   2,   4,   4,   3,   4,   7,   5,   4,   4,   0,   1,   2, 119,   0,   1,   2,   3,  17,   4,   5,  33,  49, \n",
      "   6,  18,  65,  81,   7,  97, 113,  19,  34,  50, 129,   8,  20,  66, 145, 161, 177, 193,   9,  35,  51,  82, 240,  21, \n",
      "  98, 114, 209,  10,  22,  36,  52, 225,  37, 241,  23,  24,  25,  26,  38,  39,  40,  41,  42,  53,  54,  55,  56,  57, \n",
      "  58,  67,  68,  69,  70,  71,  72,  73,  74,  83,  84,  85,  86,  87,  88,  89,  90,  99, 100, 101, 102, 103, 104, 105, \n",
      " 106, 115, 116, 117, 118, 119, 120, 121, 122, 130, 131, 132, 133, 134, 135, 136, 137, 138, 146, 147, 148, 149, 150, 151, \n",
      " 152, 153, 154, 162, 163, 164, 165, 166, 167, 168, 169, 170, 178, 179, 180, 181, 182, 183, 184, 185, 186, 194, 195, 196, \n",
      " 197, 198, 199, 200, 201, 202, 210, 211, 212, 213, 214, 215, 216, 217, 218, 226, 227, 228, 229, 230, 231, 232, 233, 234, \n",
      " 242, 243, 244, 245, 246, 247, 248, 249, 250, 255, 218,   0,  12,   3,   1,   0,   2,  17,   3,  17,   0,  63,   0, 242, \n",
      " 171, 255,   0,  20, 235,  51, 220, 234, 218, 252, 210, 173, 141, 188, 243, 180, 176, 149,  98, 145, 196,  24, 150,  33, \n",
      "  70,  79, 202,  57, 227, 181, 105,  95, 252,  81, 215, 126,  44, 199, 165,  93, 248, 171, 197,  18, 201, 113, 166, 233, \n",
      " 241,  90,  89, 220, 239,   5,  82, 218,  36,   2,  52,  85, 237, 192,  63,  92, 215, 143, 248, 151, 196,  58, 174, 175, \n",
      "  51, 104, 130, 206, 123, 153,   3, 180,  41, 101,  12,  76,  93,  36,   4, 249, 138, 209, 129, 146, 115,  91, 190,  42, \n",
      " 153, 180, 251,  27,   4, 150, 198,  91,  72, 188, 149,  88, 228, 154, 221, 163, 207,   3, 142,  64, 239, 159, 165, 124, \n",
      " 150,  58, 110, 189,  21,   9, 105, 231, 217, 158, 246,  27,  36, 195, 205,  47, 126, 210,  75, 203,  95, 145, 232, 158, \n",
      "  36, 248, 183, 241,   6, 240,  65, 103,   7, 138,  46, 150, 202, 222, 217, 172,  69, 191,  46, 137,  12, 140,  89, 163, \n",
      "   0, 231,  25,  63,  49, 247, 170,  26,  15, 196, 189,  67, 199, 218, 205, 222, 145, 168, 222, 222,  65,  33, 178,  22, \n",
      " 145, 171, 204, 200, 151,  49, 198, 217, 143, 113,  60,  62, 214,  61,   7,  32,  54, 107, 158, 240, 198, 165, 103, 171, \n",
      " 104, 179, 232, 126,  31, 209, 111, 110, 181,  78,  94,  91, 107,  72, 158,  71, 220, 170, 199, 118,  23, 156,   1, 147, \n",
      " 192, 173, 111,   3, 252,  49, 248, 201, 226,  45, 103,  67, 185, 179, 248,  45, 226, 123, 187,  89, 238, 215, 200, 104, \n",
      " 244,  75, 131,  27,  40,  56, 111, 155, 104, 192, 220, 121,  53, 156,  40, 218,  41,  70,  46,  73, 171,  55, 125,  72, \n",
      " 197,  81, 194,  96,  26, 165, 107, 202,  91, 190, 203,  99, 235, 127, 217, 111, 224, 228, 139, 255,   0,   5,  53, 248, \n",
      " 151, 241, 111,  64, 240,  28,  47, 107, 225, 203, 245, 158,  45,  40, 235, 214, 152, 107, 203, 248, 252, 195,  40, 146, \n",
      "  80,   3, 128, 165, 254, 239, 221,  44,   5, 125, 213, 227,   8, 245, 223,  19, 120,  98, 238, 203, 226,  55, 236, 143, \n",
      "  62, 167, 102, 241,  28,  89, 220,  53, 157, 226,  62, 118, 143, 186,  51, 142,  50, 127,  10, 243,  15, 134, 159, 176, \n",
      "  70, 129, 224, 191, 218, 167, 199, 250, 143, 137,  52,  15,  17, 234,  62,  26, 214, 108, 116, 235, 141,  22, 251, 207, \n",
      " 116,  79,  62,  37,  41,  52,  50, 186, 176, 243,  15,  66,  15,  28, 100, 118, 175, 172, 244,  77,  96, 232, 218, 117, \n",
      " 182, 139,  99, 160, 207,  21, 165, 180,  75,  20,  35,  97,  98, 170, 163,   0, 100, 146,  79, 227,  94,  68,  49, 120, \n",
      " 231,  47, 122, 201,  89, 121, 235, 109, 123, 117,  19, 163,  86, 109,  57, 238, 151, 127, 248,  99, 243, 155, 224,  77, \n",
      " 159, 131,  62,  24, 255,   0, 193,  66, 254,  41, 248, 195,  70, 253, 159,  53,  29,  34, 218,  13,  22, 198, 211,  75, \n",
      " 210, 236,  52,  25,  22,  43,  15,  50,  38, 119, 148, 162,  50, 236,  50, 236,  24, 245,   4, 244, 175, 111, 215, 191, \n",
      " 104,  15,  13, 120, 147, 196, 158,  11, 179, 177, 209, 109, 180, 149,  58, 146, 174, 161,  31, 136, 124,  49, 168,  56, \n",
      "   9, 231,  34, 156,  50,  78,  22,  19, 193,  33, 159, 112, 238, 120,   6, 189, 155, 224, 212,  26, 207, 134, 254,  63, \n",
      " 124,  86, 213, 124,  69, 160, 222, 164,  94,  32, 213,  52, 219, 205,  46, 249, 109,  95, 100, 182, 241, 217, 172,  62, \n",
      "  86, 236,  99,  40, 202, 120, 207, 241, 102, 189,  66, 233,  52,  77,  76, 230, 247,  65, 130, 229,  14,  55,  11, 139, \n",
      "  96, 249,  31, 136, 230, 182, 142,  38, 188,  38, 154, 179, 249, 122, 121, 153, 214, 194,  57, 202, 237, 255,   0,  95, \n",
      " 121, 255, 217]), 'id': Tensor(shape=[], dtype=Int64, value= 2553), 'label': Tensor(shape=[], dtype=Int64, value= 7)}\n"
     ]
    }
   ],
   "source": [
    "from mindspore.mindrecord import Cifar10ToMR\n",
    "import os\n",
    "\n",
    "os.mkdir('./transform')\n",
    "cifar10_path = './datasets/cifar-10-batches-py'\n",
    "cifar10_mindrecord_path = './transform/cifar10.record'\n",
    "\n",
    "cifar10_transformer = Cifar10ToMR(cifar10_path,cifar10_mindrecord_path)\n",
    "# executes transformation from Cifar10 to MindRecord\n",
    "cifar10_transformer.transform(['label'])\n",
    "\n",
    "# create MindDataset for reading data\n",
    "cifar10_mind_dataset = ds.MindDataset(dataset_file=cifar10_mindrecord_path,num_parallel_workers=4)\n",
    "# create a dictionary iterator and read a data record through the iterator\n",
    "print(next(cifar10_mind_dataset.create_dict_iterator()))"
   ]
  },
  {
   "cell_type": "markdown",
   "metadata": {},
   "source": [
    "3. 使用`GeneratorDataset`类加载自定义数据集，并且采取多进程优化方案，开启了4个进程并发完成任务，最后对数据创建了字典迭代器，并通过迭代器读取了一条数据记录。"
   ]
  },
  {
   "cell_type": "code",
   "execution_count": 7,
   "metadata": {},
   "outputs": [
    {
     "name": "stdout",
     "output_type": "stream",
     "text": [
      "{'data': Tensor(shape=[1], dtype=Int64, value= [0])}\n"
     ]
    }
   ],
   "source": [
    "def generator_func(num):\n",
    "    for i in range(num):\n",
    "        yield (np.array([i]),)\n",
    "\n",
    "# create GeneratorDataset for reading data\n",
    "dataset = ds.GeneratorDataset(source=generator_func(5),column_names=[\"data\"],num_parallel_workers=4)\n",
    "# create a dictionary iterator and read a data record through the iterator\n",
    "print(next(dataset.create_dict_iterator()))"
   ]
  },
  {
   "cell_type": "markdown",
   "metadata": {},
   "source": [
    "## shuffle性能优化"
   ]
  },
  {
   "cell_type": "markdown",
   "metadata": {},
   "source": [
    "shuffle操作主要是对有序的数据集或者进行过repeat的数据集进行混洗，MindSpore专门为用户提供了`shuffle`函数，其中设定的`buffer_size`参数越大，混洗程度越大，但时间、计算资源消耗也会大。该接口支持用户在整个pipeline的任何时候都可以对数据进行混洗，具体内容请参考[shuffle处理](https://www.mindspore.cn/doc/programming_guide/zh-CN/master/pipeline.html#shuffle)。但是因为底层的实现方式不同，该方式的性能不如直接在[内置加载算子](https://www.mindspore.cn/doc/api_python/zh-CN/master/mindspore/mindspore.dataset.html)中设置`shuffle`参数直接对数据进行混洗。"
   ]
  },
  {
   "cell_type": "markdown",
   "metadata": {},
   "source": [
    "### 性能优化方案"
   ]
  },
  {
   "cell_type": "markdown",
   "metadata": {},
   "source": [
    "![title](https://gitee.com/mindspore/docs/raw/master/tutorials/notebook/optimize_the_performance_of_data_preparation/images/shuffle_performance_scheme.png)"
   ]
  },
  {
   "cell_type": "markdown",
   "metadata": {},
   "source": [
    "shuffle性能优化建议如下：\n",
    "- 直接使用内置加载算子的`shuffle`参数进行数据的混洗。\n",
    "- 如果使用的是`shuffle`函数，当性能仍无法满足需求，可通过调大`buffer_size`参数的值来优化提升性能。"
   ]
  },
  {
   "cell_type": "markdown",
   "metadata": {},
   "source": [
    "### 代码示例\n",
    "\n",
    "基于以上的shuffle性能优化建议，本次体验分别使用内置加载算子`Cifar10Dataset`类的`shuffle`参数和`Shuffle`函数进行数据的混洗，代码演示如下："
   ]
  },
  {
   "cell_type": "markdown",
   "metadata": {},
   "source": [
    "1. 使用内置算子`Cifar10Dataset`类加载CIFAR-10数据集，这里使用的是CIFAR-10二进制格式的数据集，并且设置`shuffle`参数为True来进行数据混洗，最后对数据创建了字典迭代器，并通过迭代器读取了一条数据记录。"
   ]
  },
  {
   "cell_type": "code",
   "execution_count": 8,
   "metadata": {},
   "outputs": [
    {
     "name": "stdout",
     "output_type": "stream",
     "text": [
      "{'image': Tensor(shape=[32, 32, 3], dtype=UInt8, value=\n",
      "[[[ 34,  38,  27],\n",
      "  [ 68,  65,  51],\n",
      "  [ 79,  68,  53],\n",
      "  ...\n",
      "  [ 20,  21,  16],\n",
      "  [ 49,  39,  33],\n",
      "  [ 99,  79,  56]],\n",
      " [[ 89,  85,  70],\n",
      "  [108, 104,  85],\n",
      "  [100,  96,  79],\n",
      "  ...\n",
      "  [ 75,  81,  97],\n",
      "  [ 83,  70,  65],\n",
      "  [101,  88,  70]],\n",
      " [[126, 112,  96],\n",
      "  [145, 135, 115],\n",
      "  [134, 127, 113],\n",
      "  ...\n",
      "  [ 89,  87,  80],\n",
      "  [ 87,  79,  60],\n",
      "  [ 93,  80,  60]],\n",
      " ...\n",
      " [[141, 109,  86],\n",
      "  [136, 106,  86],\n",
      "  [120,  91,  75],\n",
      "  ...\n",
      "  [ 77,  42,   9],\n",
      "  [ 70,  35,   6],\n",
      "  [ 63,  33,   8]],\n",
      " [[142, 112,  95],\n",
      "  [129, 104,  85],\n",
      "  [120,  93,  82],\n",
      "  ...\n",
      "  [ 23,  10,   3],\n",
      "  [ 46,  21,   7],\n",
      "  [ 58,  31,   5]],\n",
      " [[141, 112, 100],\n",
      "  [134, 107,  94],\n",
      "  [116,  94,  86],\n",
      "  ...\n",
      "  [ 86,  61,  34],\n",
      "  [ 43,  21,   5],\n",
      "  [ 39,  23,   4]]]), 'label': Tensor(shape=[], dtype=UInt32, value= 6)}\n"
     ]
    }
   ],
   "source": [
    "cifar10_path = \"./datasets/cifar10/train\"\n",
    "\n",
    "# create Cifar10Dataset for reading data\n",
    "cifar10_dataset = ds.Cifar10Dataset(cifar10_path,shuffle=True)\n",
    "# create a dictionary iterator and read a data record through the iterator\n",
    "print(next(cifar10_dataset.create_dict_iterator()))"
   ]
  },
  {
   "cell_type": "markdown",
   "metadata": {},
   "source": [
    "2. 使用`shuffle`函数进行数据混洗，参数`buffer_size`设置为3，数据采用`GeneratorDataset`类自定义生成。"
   ]
  },
  {
   "cell_type": "code",
   "execution_count": 9,
   "metadata": {
    "scrolled": true
   },
   "outputs": [
    {
     "name": "stdout",
     "output_type": "stream",
     "text": [
      "before shuffle:\n",
      "[0 1 2 3 4]\n",
      "[1 2 3 4 5]\n",
      "[2 3 4 5 6]\n",
      "[3 4 5 6 7]\n",
      "[4 5 6 7 8]\n",
      "after shuffle:\n",
      "[2 3 4 5 6]\n",
      "[0 1 2 3 4]\n",
      "[1 2 3 4 5]\n",
      "[3 4 5 6 7]\n",
      "[4 5 6 7 8]\n"
     ]
    }
   ],
   "source": [
    "def generator_func():\n",
    "    for i in range(5):\n",
    "        yield (np.array([i,i+1,i+2,i+3,i+4]),)\n",
    "\n",
    "ds1 = ds.GeneratorDataset(source=generator_func,column_names=[\"data\"])\n",
    "print(\"before shuffle:\")\n",
    "for data in ds1.create_dict_iterator():\n",
    "    print(data[\"data\"])\n",
    "\n",
    "ds2 = ds1.shuffle(buffer_size=3)\n",
    "print(\"after shuffle:\")\n",
    "for data in ds2.create_dict_iterator():\n",
    "    print(data[\"data\"])"
   ]
  },
  {
   "cell_type": "markdown",
   "metadata": {},
   "source": [
    "## 数据增强性能优化"
   ]
  },
  {
   "cell_type": "markdown",
   "metadata": {},
   "source": [
    "在图片分类的训练中，尤其是当数据集比较小的时候，用户可以使用数据增强的方式来预处理图片，从而丰富数据集。MindSpore为用户提供了多种数据增强的方式，其中包括：\n",
    "- 使用内置C算子（`c_transforms`模块）进行数据增强。\n",
    "- 使用内置Python算子（`py_transforms`模块）进行数据增强。\n",
    "- 用户可根据自己的需求，自定义Python函数进行数据增强。\n",
    "\n",
    "具体的内容请参考[数据增强](https://www.mindspore.cn/doc/programming_guide/zh-CN/master/augmentation.html)。因为底层的实现方式不同，所以性能还是有一定的差异，如下所示："
   ]
  },
  {
   "cell_type": "markdown",
   "metadata": {},
   "source": [
    "|   模块   | 底层接口 | 说明 |\n",
    "| :----: | :----: | :----: |\n",
    "| c_transforms | C++（基于OpenCV）| 性能高 |\n",
    "| py_transforms | Python（基于PIL） | 该模块提供了多种图像增强功能，并提供了PIL Image和Numpy数组之间的传输方法 |\n"
   ]
  },
  {
   "cell_type": "markdown",
   "metadata": {},
   "source": [
    "### 性能优化方案"
   ]
  },
  {
   "cell_type": "markdown",
   "metadata": {},
   "source": [
    "![title](https://gitee.com/mindspore/docs/raw/master/tutorials/notebook/optimize_the_performance_of_data_preparation/images/data_enhancement_performance_scheme.png)\n"
   ]
  },
  {
   "cell_type": "markdown",
   "metadata": {},
   "source": [
    "数据增强性能优化建议如下：\n",
    "- 优先使用`c_transforms`模块进行数据增强，因为性能最高，如果性能仍无法满足需求，可采取[多线程优化方案](#多线程优化方案)、[Compose优化方案](#Compose优化方案)或者[算子融合优化方案](#算子融合优化方案)。\n",
    "- 如果使用了`py_transforms`模块进行数据增强，当性能仍无法满足需求，可采取[多线程优化方案](#多线程优化方案)、[多进程优化方案](#多进程优化方案)、[Compose优化方案](#Compose优化方案)或者[算子融合优化方案](#算子融合优化方案)。\n",
    "- `c_transforms`模块是在C++内维护buffer管理，`py_transforms`模块是在Python内维护buffer管理。因为Python和C++切换的性能成本，建议不要混用算子。\n",
    "- 如果用户使用了自定义Python函数进行数据增强，当性能仍无法满足需求，可采取[多线程优化方案](#多线程优化方案)或者[多进程优化方案](#多进程优化方案)，如果还是无法提升性能，就需要对自定义的Python代码进行优化。"
   ]
  },
  {
   "cell_type": "markdown",
   "metadata": {},
   "source": [
    "### 代码示例\n",
    "\n",
    "基于以上的数据增强性能优化建议，本次体验分别使用`c_transforms`模块和自定义Python函数进行了数据增强，演示代码如下所示："
   ]
  },
  {
   "cell_type": "markdown",
   "metadata": {},
   "source": [
    "1. 使用`c_transforms`模块进行数据增强，数据增强时采用多线程优化方案，开启了4个线程并发完成任务，并且采用了算子融合优化方案，使用`RandomResizedCrop`融合类替代`RandomResize`类和`RandomCrop`类。"
   ]
  },
  {
   "cell_type": "code",
   "execution_count": 10,
   "metadata": {},
   "outputs": [
    {
     "data": {
      "image/png": "[encoded data removed]",
      "text/plain": [
       "<Figure size 432x288 with 1 Axes>"
      ]
     },
     "metadata": {
      "needs_background": "light"
     },
     "output_type": "display_data"
    }
   ],
   "source": [
    "import mindspore.dataset.transforms.c_transforms as c_transforms\n",
    "import mindspore.dataset.vision.c_transforms as C\n",
    "import matplotlib.pyplot as plt\n",
    "cifar10_path = \"./datasets/cifar10/train\"\n",
    "\n",
    "# create Cifar10Dataset for reading data\n",
    "cifar10_dataset = ds.Cifar10Dataset(cifar10_path,num_parallel_workers=4)\n",
    "transforms = C.RandomResizedCrop((800,800))\n",
    "# apply the transform to the dataset through dataset.map()\n",
    "cifar10_dataset = cifar10_dataset.map(operations=transforms,input_columns=\"image\",num_parallel_workers=4)\n",
    "\n",
    "data = next(cifar10_dataset.create_dict_iterator())\n",
    "plt.imshow(data[\"image\"].asnumpy())\n",
    "plt.show()"
   ]
  },
  {
   "cell_type": "markdown",
   "metadata": {},
   "source": [
    "2. 使用自定义Python函数进行数据增强，数据增强时采用多进程优化方案，开启了4个进程并发完成任务。"
   ]
  },
  {
   "cell_type": "code",
   "execution_count": 11,
   "metadata": {},
   "outputs": [
    {
     "name": "stdout",
     "output_type": "stream",
     "text": [
      "before map:\n",
      "[0 1 2 3 4]\n",
      "[1 2 3 4 5]\n",
      "[2 3 4 5 6]\n",
      "[3 4 5 6 7]\n",
      "[4 5 6 7 8]\n",
      "after map:\n",
      "[ 0  1  4  9 16]\n",
      "[ 1  4  9 16 25]\n",
      "[ 4  9 16 25 36]\n",
      "[ 9 16 25 36 49]\n",
      "[16 25 36 49 64]\n"
     ]
    }
   ],
   "source": [
    "def generator_func():\n",
    "    for i in range(5):\n",
    "        yield (np.array([i,i+1,i+2,i+3,i+4]),)\n",
    "\n",
    "ds3 = ds.GeneratorDataset(source=generator_func,column_names=[\"data\"])\n",
    "print(\"before map:\")\n",
    "for data in ds3.create_dict_iterator():\n",
    "    print(data[\"data\"])\n",
    "\n",
    "func = lambda x:x**2\n",
    "ds4 = ds3.map(operations=func,input_columns=\"data\",python_multiprocessing=True,num_parallel_workers=4)\n",
    "print(\"after map:\")\n",
    "for data in ds4.create_dict_iterator():\n",
    "    print(data[\"data\"])"
   ]
  },
  {
   "cell_type": "markdown",
   "metadata": {},
   "source": [
    "## 性能优化方案总结"
   ]
  },
  {
   "cell_type": "markdown",
   "metadata": {},
   "source": [
    "### 多线程优化方案"
   ]
  },
  {
   "cell_type": "markdown",
   "metadata": {},
   "source": [
    "在数据pipeline过程中，相关算子一般都有线程数设置参数，来提升处理并发度，提升性能，例如：\n",
    "- 在数据加载的过程中，内置数据加载类有`num_parallel_workers`参数用来设置线程数。\n",
    "- 在数据增强的过程中，`map`函数有`num_parallel_workers`参数用来设置线程数。\n",
    "- 在Batch的过程中，`batch`函数有`num_parallel_workers`参数用来设置线程数。\n",
    "\n",
    "具体内容请参考[内置加载算子](https://www.mindspore.cn/doc/api_python/zh-CN/master/mindspore/mindspore.dataset.html)。"
   ]
  },
  {
   "cell_type": "markdown",
   "metadata": {},
   "source": [
    "### 多进程优化方案"
   ]
  },
  {
   "cell_type": "markdown",
   "metadata": {},
   "source": [
    "数据处理中Python实现的算子均支持多进程的模式，例如：\n",
    "- `GeneratorDataset`这个类默认是多进程模式，它的`num_parallel_workers`参数表示的是开启的进程数，默认为1，具体内容请参考[GeneratorDataset](https://www.mindspore.cn/doc/api_python/zh-CN/master/mindspore/dataset/mindspore.dataset.GeneratorDataset.html)。\n",
    "- 如果使用Python自定义函数或者`py_transforms`模块进行数据增强的时候，当`map`函数的参数`python_multiprocessing`设置为True时，此时参数`num_parallel_workers`表示的是进程数，参数`python_multiprocessing`默认为False，此时参数`num_parallel_workers`表示的是线程数，具体的内容请参考[内置加载算子](https://www.mindspore.cn/doc/api_python/zh-CN/master/mindspore/mindspore.dataset.html)。"
   ]
  },
  {
   "cell_type": "markdown",
   "metadata": {},
   "source": [
    "### Compose优化方案"
   ]
  },
  {
   "cell_type": "markdown",
   "metadata": {},
   "source": [
    "Map算子可以接收Tensor算子列表，并将按照顺序应用所有的这些算子，与为每个Tensor算子使用的Map算子相比，此类“胖Map算子”可以获得更好的性能，如图所示："
   ]
  },
  {
   "cell_type": "markdown",
   "metadata": {},
   "source": [
    "![title](https://gitee.com/mindspore/docs/raw/master/tutorials/notebook/optimize_the_performance_of_data_preparation/images/compose.png)"
   ]
  },
  {
   "cell_type": "markdown",
   "metadata": {},
   "source": [
    "### 算子融合优化方案"
   ]
  },
  {
   "cell_type": "markdown",
   "metadata": {},
   "source": [
    "提供某些融合算子，这些算子将两个或多个算子的功能聚合到一个算子中。具体内容请参考[数据增强算子](https://www.mindspore.cn/doc/api_python/zh-CN/master/mindspore/mindspore.dataset.vision.html)，与它们各自组件的流水线相比，这种融合算子提供了更好的性能。如图所示："
   ]
  },
  {
   "cell_type": "markdown",
   "metadata": {},
   "source": [
    "![title](https://gitee.com/mindspore/docs/raw/master/tutorials/notebook/optimize_the_performance_of_data_preparation/images/operator_fusion.png)"
   ]
  }
 ],
 "metadata": {
  "kernelspec": {
   "display_name": "MindSpore-1.0.1",
   "language": "python",
   "name": "mindspore-1.0.1"
  },
  "language_info": {
   "codemirror_mode": {
    "name": "ipython",
    "version": 3
   },
   "file_extension": ".py",
   "mimetype": "text/x-python",
   "name": "python",
   "nbconvert_exporter": "python",
   "pygments_lexer": "ipython3",
   "version": "3.7.5"
  }
 },
 "nbformat": 4,
 "nbformat_minor": 4
}
