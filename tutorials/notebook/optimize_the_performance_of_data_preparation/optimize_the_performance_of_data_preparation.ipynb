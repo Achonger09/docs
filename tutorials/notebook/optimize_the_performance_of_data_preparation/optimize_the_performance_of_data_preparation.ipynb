{
 "cells": [
  {
   "cell_type": "markdown",
   "metadata": {},
   "source": [
    "# <center/>优化数据准备的性能"
   ]
  },
  {
   "cell_type": "markdown",
   "metadata": {},
   "source": [
    "## 概述\n",
    "\n",
    "数据是整个深度学习中最重要的一环，因为数据的好坏决定了最终结果的上限，模型的好坏只是去无限逼近这个上限，所以高质量的数据输入，会在整个深度神经网络中起到积极作用，数据在整个数据处理和数据增强的过程像经过pipeline管道的水一样，源源不断地流向训练系统，如图所示："
   ]
  },
  {
   "cell_type": "markdown",
   "metadata": {},
   "source": [
    "![title](https://gitee.com/mindspore/docs/raw/master/tutorials/notebook/optimize_the_performance_of_data_preparation/images/pipeline.png)"
   ]
  },
  {
   "cell_type": "markdown",
   "metadata": {},
   "source": [
    "MindSpore为用户提供了数据处理以及数据增强的功能，在数据的整个pipeline过程中，其中的每一步骤，如果都能够进行合理的运用，那么数据的性能会得到很大的优化和提升。本次体验将基于CIFAR-10数据集来为大家展示如何在数据加载、数据处理和数据增强的过程中进行性能的优化。"
   ]
  },
  {
   "cell_type": "markdown",
   "metadata": {},
   "source": [
    "## 整体流程\n",
    "- 准备环节。\n",
    "- 数据加载性能优化。\n",
    "- shuffle性能优化。\n",
    "- 数据增强性能优化。\n",
    "- 性能优化方案总结。"
   ]
  },
  {
   "cell_type": "markdown",
   "metadata": {},
   "source": [
    "## 准备环节"
   ]
  },
  {
   "cell_type": "markdown",
   "metadata": {},
   "source": [
    "### 导入模块"
   ]
  },
  {
   "cell_type": "markdown",
   "metadata": {},
   "source": [
    "`dataset`模块提供API用来加载和处理数据集。"
   ]
  },
  {
   "cell_type": "code",
   "execution_count": 1,
   "metadata": {},
   "outputs": [],
   "source": [
    "import mindspore.dataset as ds"
   ]
  },
  {
   "cell_type": "markdown",
   "metadata": {},
   "source": [
    "`numpy`模块用于生成ndarray数组。"
   ]
  },
  {
   "cell_type": "code",
   "execution_count": 2,
   "metadata": {},
   "outputs": [],
   "source": [
    "import numpy as np"
   ]
  },
  {
   "cell_type": "markdown",
   "metadata": {},
   "source": [
    "### 下载所需数据集"
   ]
  },
  {
   "cell_type": "markdown",
   "metadata": {},
   "source": [
    "1. 在jupyter工作目录下创建`./dataset/Cifar10Data`目录，本次体验所用的数据集存放在该目录下。\n",
    "2. 在jupyter工作目录下创建`./transform`目录，本次体验转换生成的数据集存放在该目录下。\n",
    "3. 下载[CIFAR-10二进制格式数据集](https://www.cs.toronto.edu/~kriz/cifar-10-binary.tar.gz)，并将数据集文件解压到`./dataset/Cifar10Data/cifar-10-batches-bin`目录下，数据加载的时候使用该数据集。\n",
    "4. 下载[CIFAR-10 Python文件格式数据集](https://www.cs.toronto.edu/~kriz/cifar-10-python.tar.gz)，并将数据集文件解压到`./dataset/Cifar10Data/cifar-10-batches-py`目录下，数据转换的时候使用该数据集。"
   ]
  },
  {
   "cell_type": "markdown",
   "metadata": {},
   "source": [
    "目录结构如下所示：\n",
    "\n",
    "\n",
    "    dataset/Cifar10Data\n",
    "    ├── cifar-10-batches-bin\n",
    "    │   ├── batches.meta.txt\n",
    "    │   ├── data_batch_1.bin\n",
    "    │   ├── data_batch_2.bin\n",
    "    │   ├── data_batch_3.bin\n",
    "    │   ├── data_batch_4.bin\n",
    "    │   ├── data_batch_5.bin\n",
    "    │   ├── readme.html\n",
    "    │   └── test_batch.bin\n",
    "    └── cifar-10-batches-py\n",
    "        ├── batches.meta\n",
    "        ├── data_batch_1\n",
    "        ├── data_batch_2\n",
    "        ├── data_batch_3\n",
    "        ├── data_batch_4\n",
    "        ├── data_batch_5\n",
    "        ├── readme.html\n",
    "        └── test_batch\n",
    "\n",
    "其中：\n",
    "- `cifar-10-batches-bin`目录为CIFAR-10二进制格式数据集目录。\n",
    "- `cifar-10-batches-py`目录为CIFAR-10 Python文件格式数据集目录。"
   ]
  },
  {
   "cell_type": "markdown",
   "metadata": {},
   "source": [
    "## 数据加载性能优化"
   ]
  },
  {
   "cell_type": "markdown",
   "metadata": {},
   "source": [
    "MindSpore为用户提供了多种数据加载方式，其中包括常用数据集加载、用户自定义数据集加载、MindSpore数据格式加载，详情内容请参考[加载数据集](https://www.mindspore.cn/api/zh-CN/master/programming_guide/dataset_loading.html)。对于数据集加载，底层实现方式的不同，会导致数据集加载的性能存在差异，如下所示："
   ]
  },
  {
   "cell_type": "markdown",
   "metadata": {},
   "source": [
    "|      | 常用数据集 | 用户自定义 | MindRecord |\n",
    "| :----: | :----: | :----: | :----: |\n",
    "| 底层实现 | C++ | Python | C++ |\n",
    "| 性能 | 高 | 中 | 高|"
   ]
  },
  {
   "cell_type": "markdown",
   "metadata": {},
   "source": [
    "### 性能优化方案"
   ]
  },
  {
   "cell_type": "markdown",
   "metadata": {},
   "source": [
    "![title](https://gitee.com/mindspore/docs/raw/master/tutorials/notebook/optimize_the_performance_of_data_preparation/images/data_loading_performance_scheme.png)"
   ]
  },
  {
   "cell_type": "markdown",
   "metadata": {},
   "source": [
    "数据加载性能优化建议如下：\n",
    "- 已经支持的数据集格式优选内置加载算子，具体内容请参考[内置加载算子](https://www.mindspore.cn/api/zh-CN/master/api/python/mindspore/mindspore.dataset.html)，如果性能仍无法满足需求，则可采取多线程并发方案，请参考本文[多线程优化方案](#多线程优化方案)。\n",
    "- 不支持的数据集格式，优选转换为MindSpore数据格式后再使用`MindDataset`类进行加载，具体内容请参考[将数据集转换为MindSpore数据格式](https://www.mindspore.cn/api/zh-CN/master/programming_guide/dataset_conversion.html)，如果性能仍无法满足需求，则可采取多线程并发方案，请参考本文[多线程优化方案](#多线程优化方案)。\n",
    "- 不支持的数据集格式，算法快速验证场景，优选用户自定义`GeneratorDataset`类实现，如果性能仍无法满足需求，则可采取多进程并发方案，请参考本文[多进程优化方案](#多进程优化方案)。"
   ]
  },
  {
   "cell_type": "markdown",
   "metadata": {},
   "source": [
    "### 代码示例\n",
    "\n",
    "基于以上的数据加载性能优化建议，本次体验分别使用内置加载算子`Cifar10Dataset`类、数据转换后使用`MindDataset`类、使用`GeneratorDataset`类进行数据加载，代码演示如下："
   ]
  },
  {
   "cell_type": "markdown",
   "metadata": {},
   "source": [
    "1. 使用内置算子`Cifar10Dataset`类加载CIFAR-10数据集，这里使用的是CIFAR-10二进制格式的数据集，加载数据时采取多线程优化方案，开启了4个线程并发完成任务，最后对数据创建了字典迭代器，并通过迭代器读取了一条数据记录。"
   ]
  },
  {
   "cell_type": "code",
   "execution_count": 3,
   "metadata": {},
   "outputs": [
    {
     "name": "stdout",
     "output_type": "stream",
     "text": [
      "{'image': Tensor(shape=[32, 32, 3], dtype=UInt8, value=\n",
      "      [[[235, 235, 235],\n",
      "        [230, 230, 230],\n",
      "        [234, 234, 234],\n",
      "        ...,\n",
      "        [248, 248, 248],\n",
      "        [248, 248, 248],\n",
      "        [249, 249, 249]],\n",
      "\n",
      "       [[216, 216, 216],\n",
      "        [213, 213, 213],\n",
      "        [215, 215, 215],\n",
      "        ...,\n",
      "        [254, 254, 254],\n",
      "        [253, 253, 253],\n",
      "        [253, 253, 253]],\n",
      "\n",
      "       [[213, 213, 213],\n",
      "        [217, 217, 217],\n",
      "        [215, 215, 215],\n",
      "        ...,\n",
      "        [255, 255, 255],\n",
      "        [254, 254, 254],\n",
      "        [254, 254, 254]],\n",
      "\n",
      "       ...,\n",
      "\n",
      "       [[195, 195, 195],\n",
      "        [200, 200, 200],\n",
      "        [202, 202, 202],\n",
      "        ...,\n",
      "        [138, 138, 138],\n",
      "        [143, 143, 143],\n",
      "        [172, 171, 176]],\n",
      "\n",
      "       [[205, 205, 205],\n",
      "        [205, 205, 205],\n",
      "        [211, 211, 211],\n",
      "        ...,\n",
      "        [112, 112, 112],\n",
      "        [130, 130, 132],\n",
      "        [167, 163, 184]],\n",
      "\n",
      "       [[210, 210, 210],\n",
      "        [209, 209, 209],\n",
      "        [213, 213, 213],\n",
      "        ...,\n",
      "        [120, 120, 119],\n",
      "        [146, 146, 146],\n",
      "        [177, 174, 190]]]), 'label': Tensor(shape=[], dtype=UInt32, value= 9)}\n"
     ]
    }
   ],
   "source": [
    "cifar10_path = \"./dataset/Cifar10Data/cifar-10-batches-bin/\"\n",
    "\n",
    "# create Cifar10Dataset for reading data\n",
    "cifar10_dataset = ds.Cifar10Dataset(cifar10_path,num_parallel_workers=4)\n",
    "# create a dictionary iterator and read a data record through the iterator\n",
    "print(next(cifar10_dataset.create_dict_iterator()))"
   ]
  },
  {
   "cell_type": "markdown",
   "metadata": {},
   "source": [
    "2. 使用`Cifar10ToMR`这个类将CIFAR-10数据集转换为MindSpore数据格式，这里使用的是CIFAR-10 python文件格式的数据集，然后使用`MindDataset`类加载MindSpore数据格式数据集，加载数据采取多线程优化方案，开启了4个线程并发完成任务，最后对数据创建了字典迭代器，并通过迭代器读取了一条数据记录。"
   ]
  },
  {
   "cell_type": "code",
   "execution_count": 4,
   "metadata": {},
   "outputs": [
    {
     "name": "stdout",
     "output_type": "stream",
     "text": [
      "{'data': Tensor(shape=[1431], dtype=UInt8, value= [255, 216, 255, ...,  63, 255, 217]), 'id': Tensor(shape=[], dtype=Int64, value= 30474), 'label': Tensor(shape=[], dtype=Int64, value= 2)}\n"
     ]
    }
   ],
   "source": [
    "from mindspore.mindrecord import Cifar10ToMR\n",
    "\n",
    "cifar10_path = './dataset/Cifar10Data/cifar-10-batches-py/'\n",
    "cifar10_mindrecord_path = './transform/cifar10.record'\n",
    "\n",
    "cifar10_transformer = Cifar10ToMR(cifar10_path,cifar10_mindrecord_path)\n",
    "# executes transformation from Cifar10 to MindRecord\n",
    "cifar10_transformer.transform(['label'])\n",
    "\n",
    "# create MindDataset for reading data\n",
    "cifar10_mind_dataset = ds.MindDataset(dataset_file=cifar10_mindrecord_path,num_parallel_workers=4)\n",
    "# create a dictionary iterator and read a data record through the iterator\n",
    "print(next(cifar10_mind_dataset.create_dict_iterator()))"
   ]
  },
  {
   "cell_type": "markdown",
   "metadata": {},
   "source": [
    "3. 使用`GeneratorDataset`类加载自定义数据集，并且采取多进程优化方案，开启了4个进程并发完成任务，最后对数据创建了字典迭代器，并通过迭代器读取了一条数据记录。"
   ]
  },
  {
   "cell_type": "code",
   "execution_count": 5,
   "metadata": {},
   "outputs": [
    {
     "name": "stdout",
     "output_type": "stream",
     "text": [
      "{'data': Tensor(shape=[1], dtype=Int64, value= [0])}\n"
     ]
    }
   ],
   "source": [
    "def generator_func(num):\n",
    "    for i in range(num):\n",
    "        yield (np.array([i]),)\n",
    "\n",
    "# create GeneratorDataset for reading data\n",
    "dataset = ds.GeneratorDataset(source=generator_func(5),column_names=[\"data\"],num_parallel_workers=4)\n",
    "# create a dictionary iterator and read a data record through the iterator\n",
    "print(next(dataset.create_dict_iterator()))"
   ]
  },
  {
   "cell_type": "markdown",
   "metadata": {},
   "source": [
    "## shuffle性能优化"
   ]
  },
  {
   "cell_type": "markdown",
   "metadata": {},
   "source": [
    "shuffle操作主要是对有序的数据集或者进行过repeat的数据集进行混洗，MindSpore专门为用户提供了`shuffle`函数，其中设定的`buffer_size`参数越大，混洗程度越大，但时间、计算资源消耗也会大。该接口支持用户在整个pipeline的任何时候都可以对数据进行混洗，具体内容请参考[shuffle处理](https://www.mindspore.cn/api/zh-CN/master/programming_guide/augmentation.html)。但是因为底层的实现方式不同，该方式的性能不如直接在[内置加载算子](https://www.mindspore.cn/api/zh-CN/master/api/python/mindspore/mindspore.dataset.html)中设置`shuffle`参数直接对数据进行混洗。"
   ]
  },
  {
   "cell_type": "markdown",
   "metadata": {},
   "source": [
    "### 性能优化方案"
   ]
  },
  {
   "cell_type": "markdown",
   "metadata": {},
   "source": [
    "![title](https://gitee.com/mindspore/docs/raw/master/tutorials/notebook/optimize_the_performance_of_data_preparation/images/shuffle_performance_scheme.png)"
   ]
  },
  {
   "cell_type": "markdown",
   "metadata": {},
   "source": [
    "shuffle性能优化建议如下：\n",
    "- 直接使用内置加载算子的`shuffle`参数进行数据的混洗。\n",
    "- 如果使用的是`shuffle`函数，当性能仍无法满足需求，可通过调大`buffer_size`参数的值来优化提升性能。"
   ]
  },
  {
   "cell_type": "markdown",
   "metadata": {},
   "source": [
    "### 代码示例\n",
    "\n",
    "基于以上的shuffle性能优化建议，本次体验分别使用内置加载算子`Cifar10Dataset`类的`shuffle`参数和`Shuffle`函数进行数据的混洗，代码演示如下："
   ]
  },
  {
   "cell_type": "markdown",
   "metadata": {},
   "source": [
    "1. 使用内置算子`Cifar10Dataset`类加载CIFAR-10数据集，这里使用的是CIFAR-10二进制格式的数据集，并且设置`shuffle`参数为True来进行数据混洗，最后对数据创建了字典迭代器，并通过迭代器读取了一条数据记录。"
   ]
  },
  {
   "cell_type": "code",
   "execution_count": 6,
   "metadata": {},
   "outputs": [
    {
     "name": "stdout",
     "output_type": "stream",
     "text": [
      "{'image': Tensor(shape=[32, 32, 3], dtype=UInt8, value=\n",
      "      [[[254, 254, 254],\n",
      "        [255, 255, 254],\n",
      "        [255, 255, 254],\n",
      "        ...,\n",
      "        [232, 234, 244],\n",
      "        [226, 230, 242],\n",
      "        [228, 232, 243]],\n",
      "\n",
      "       [[251, 251, 251],\n",
      "        [253, 253, 254],\n",
      "        [255, 255, 255],\n",
      "        ...,\n",
      "        [225, 227, 235],\n",
      "        [227, 231, 241],\n",
      "        [229, 233, 243]],\n",
      "\n",
      "       [[250, 250, 250],\n",
      "        [251, 251, 251],\n",
      "        [253, 253, 253],\n",
      "        ...,\n",
      "        [233, 235, 241],\n",
      "        [233, 236, 245],\n",
      "        [238, 242, 250]],\n",
      "\n",
      "       ...,\n",
      "\n",
      "       [[ 67,  64,  71],\n",
      "        [ 65,  62,  69],\n",
      "        [ 64,  61,  68],\n",
      "        ...,\n",
      "        [ 71,  67,  70],\n",
      "        [ 71,  68,  70],\n",
      "        [ 69,  65,  68]],\n",
      "\n",
      "       [[ 62,  58,  64],\n",
      "        [ 59,  55,  61],\n",
      "        [ 61,  58,  64],\n",
      "        ...,\n",
      "        [ 64,  62,  64],\n",
      "        [ 61,  58,  59],\n",
      "        [ 62,  60,  61]],\n",
      "\n",
      "       [[ 66,  60,  65],\n",
      "        [ 64,  59,  64],\n",
      "        [ 66,  60,  65],\n",
      "        ...,\n",
      "        [ 64,  61,  63],\n",
      "        [ 63,  58,  60],\n",
      "        [ 61,  56,  58]]]), 'label': Tensor(shape=[], dtype=UInt32, value= 9)}\n"
     ]
    }
   ],
   "source": [
    "cifar10_path = \"./dataset/Cifar10Data/cifar-10-batches-bin/\"\n",
    "\n",
    "# create Cifar10Dataset for reading data\n",
    "cifar10_dataset = ds.Cifar10Dataset(cifar10_path,shuffle=True)\n",
    "# create a dictionary iterator and read a data record through the iterator\n",
    "print(next(cifar10_dataset.create_dict_iterator()))"
   ]
  },
  {
   "cell_type": "markdown",
   "metadata": {},
   "source": [
    "2. 使用`shuffle`函数进行数据混洗，参数`buffer_size`设置为3，数据采用`GeneratorDataset`类自定义生成。"
   ]
  },
  {
   "cell_type": "code",
   "execution_count": 7,
   "metadata": {
    "scrolled": true
   },
   "outputs": [
    {
     "name": "stdout",
     "output_type": "stream",
     "text": [
      "before shuffle:\n",
      "[0 1 2 3 4]\n",
      "[1 2 3 4 5]\n",
      "[2 3 4 5 6]\n",
      "[3 4 5 6 7]\n",
      "[4 5 6 7 8]\n",
      "after shuffle:\n",
      "[2 3 4 5 6]\n",
      "[0 1 2 3 4]\n",
      "[4 5 6 7 8]\n",
      "[1 2 3 4 5]\n",
      "[3 4 5 6 7]\n"
     ]
    }
   ],
   "source": [
    "def generator_func():\n",
    "    for i in range(5):\n",
    "        yield (np.array([i,i+1,i+2,i+3,i+4]),)\n",
    "\n",
    "ds1 = ds.GeneratorDataset(source=generator_func,column_names=[\"data\"])\n",
    "print(\"before shuffle:\")\n",
    "for data in ds1.create_dict_iterator():\n",
    "    print(data[\"data\"])\n",
    "\n",
    "ds2 = ds1.shuffle(buffer_size=3)\n",
    "print(\"after shuffle:\")\n",
    "for data in ds2.create_dict_iterator():\n",
    "    print(data[\"data\"])"
   ]
  },
  {
   "cell_type": "markdown",
   "metadata": {},
   "source": [
    "## 数据增强性能优化"
   ]
  },
  {
   "cell_type": "markdown",
   "metadata": {},
   "source": [
    "在图片分类的训练中，尤其是当数据集比较小的时候，用户可以使用数据增强的方式来预处理图片，从而丰富数据集。MindSpore为用户提供了多种数据增强的方式，其中包括：\n",
    "- 使用内置C算子（`c_transforms`模块）进行数据增强。\n",
    "- 使用内置Python算子（`py_transforms`模块）进行数据增强。\n",
    "- 用户可根据自己的需求，自定义Python函数进行数据增强。\n",
    "\n",
    "具体的内容请参考[数据增强](https://www.mindspore.cn/api/zh-CN/master/programming_guide/augmentation.html#id3)。因为底层的实现方式不同，所以性能还是有一定的差异，如下所示："
   ]
  },
  {
   "cell_type": "markdown",
   "metadata": {},
   "source": [
    "|   模块   | 底层接口 | 说明 |\n",
    "| :----: | :----: | :----: |\n",
    "| c_transforms | C++（基于OpenCV）| 性能高 |\n",
    "| py_transforms | Python（基于PIL） | 该模块提供了多种图像增强功能，并提供了PIL Image和Numpy数组之间的传输方法 |\n"
   ]
  },
  {
   "cell_type": "markdown",
   "metadata": {},
   "source": [
    "### 性能优化方案"
   ]
  },
  {
   "cell_type": "markdown",
   "metadata": {},
   "source": [
    "![title](https://gitee.com/mindspore/docs/raw/master/tutorials/notebook/optimize_the_performance_of_data_preparation/images/data_enhancement_performance_scheme.png)\n"
   ]
  },
  {
   "cell_type": "markdown",
   "metadata": {},
   "source": [
    "数据增强性能优化建议如下：\n",
    "- 优先使用`c_transforms`模块进行数据增强，因为性能最高，如果性能仍无法满足需求，可采取[多线程优化方案](#多线程优化方案)、[Compose优化方案](#Compose优化方案)或者[算子融合优化方案](#算子融合优化方案)。\n",
    "- 如果使用了`py_transforms`模块进行数据增强，当性能仍无法满足需求，可采取[多线程优化方案](#多线程优化方案)、[多进程优化方案](#多进程优化方案)、[Compose优化方案](#Compose优化方案)或者[算子融合优化方案](#算子融合优化方案)。\n",
    "- `c_transforms`模块是在C++内维护buffer管理，`py_transforms`模块是在Python内维护buffer管理。因为Python和C++切换的性能成本，建议不要混用算子。\n",
    "- 如果用户使用了自定义Python函数进行数据增强，当性能仍无法满足需求，可采取[多线程优化方案](#多线程优化方案)或者[多进程优化方案](#多进程优化方案)，如果还是无法提升性能，就需要对自定义的Python代码进行优化。"
   ]
  },
  {
   "cell_type": "markdown",
   "metadata": {},
   "source": [
    "### 代码示例\n",
    "\n",
    "基于以上的数据增强性能优化建议，本次体验分别使用`c_transforms`模块和自定义Python函数进行了数据增强，演示代码如下所示："
   ]
  },
  {
   "cell_type": "markdown",
   "metadata": {},
   "source": [
    "1. 使用`c_transforms`模块进行数据增强，数据增强时采用多线程优化方案，开启了4个线程并发完成任务，并且采用了算子融合优化方案，使用`RandomResizedCrop`融合类替代`RandomResize`类和`RandomCrop`类。"
   ]
  },
  {
   "cell_type": "code",
   "execution_count": 8,
   "metadata": {},
   "outputs": [
    {
     "data": {
      "image/png": "[encoded data removed]",
      "text/plain": [
       "<Figure size 432x288 with 1 Axes>"
      ]
     },
     "metadata": {
      "needs_background": "light"
     },
     "output_type": "display_data"
    }
   ],
   "source": [
    "import mindspore.dataset.transforms.c_transforms as c_transforms\n",
    "import mindspore.dataset.vision.c_transforms as C\n",
    "import matplotlib.pyplot as plt\n",
    "cifar10_path = \"./dataset/Cifar10Data/cifar-10-batches-bin/\"\n",
    "\n",
    "# create Cifar10Dataset for reading data\n",
    "cifar10_dataset = ds.Cifar10Dataset(cifar10_path,num_parallel_workers=4)\n",
    "transforms = C.RandomResizedCrop((800,800))\n",
    "# apply the transform to the dataset through dataset.map()\n",
    "cifar10_dataset = cifar10_dataset.map(operations=transforms,input_columns=\"image\",num_parallel_workers=4)\n",
    "\n",
    "data = next(cifar10_dataset.create_dict_iterator())\n",
    "plt.imshow(data[\"image\"].asnumpy())\n",
    "plt.show()"
   ]
  },
  {
   "cell_type": "markdown",
   "metadata": {},
   "source": [
    "2. 使用自定义Python函数进行数据增强，数据增强时采用多进程优化方案，开启了4个进程并发完成任务。"
   ]
  },
  {
   "cell_type": "code",
   "execution_count": 9,
   "metadata": {},
   "outputs": [
    {
     "name": "stdout",
     "output_type": "stream",
     "text": [
      "before map:\n",
      "[0 1 2 3 4]\n",
      "[1 2 3 4 5]\n",
      "[2 3 4 5 6]\n",
      "[3 4 5 6 7]\n",
      "[4 5 6 7 8]\n",
      "after map:\n",
      "[ 0  1  4  9 16]\n",
      "[ 1  4  9 16 25]\n",
      "[ 4  9 16 25 36]\n",
      "[ 9 16 25 36 49]\n",
      "[16 25 36 49 64]\n"
     ]
    }
   ],
   "source": [
    "def generator_func():\n",
    "    for i in range(5):\n",
    "        yield (np.array([i,i+1,i+2,i+3,i+4]),)\n",
    "\n",
    "ds3 = ds.GeneratorDataset(source=generator_func,column_names=[\"data\"])\n",
    "print(\"before map:\")\n",
    "for data in ds3.create_dict_iterator():\n",
    "    print(data[\"data\"])\n",
    "\n",
    "func = lambda x:x**2\n",
    "ds4 = ds3.map(operations=func,input_columns=\"data\",python_multiprocessing=True,num_parallel_workers=4)\n",
    "print(\"after map:\")\n",
    "for data in ds4.create_dict_iterator():\n",
    "    print(data[\"data\"])"
   ]
  },
  {
   "cell_type": "markdown",
   "metadata": {},
   "source": [
    "## 性能优化方案总结"
   ]
  },
  {
   "cell_type": "markdown",
   "metadata": {},
   "source": [
    "### 多线程优化方案"
   ]
  },
  {
   "cell_type": "markdown",
   "metadata": {},
   "source": [
    "在数据pipeline过程中，相关算子一般都有线程数设置参数，来提升处理并发度，提升性能，例如：\n",
    "- 在数据加载的过程中，内置数据加载类有`num_parallel_workers`参数用来设置线程数。\n",
    "- 在数据增强的过程中，`map`函数有`num_parallel_workers`参数用来设置线程数。\n",
    "- 在Batch的过程中，`batch`函数有`num_parallel_workers`参数用来设置线程数。\n",
    "\n",
    "具体内容请参考[内置加载算子](https://www.mindspore.cn/api/zh-CN/master/api/python/mindspore/mindspore.dataset.html)。"
   ]
  },
  {
   "cell_type": "markdown",
   "metadata": {},
   "source": [
    "### 多进程优化方案"
   ]
  },
  {
   "cell_type": "markdown",
   "metadata": {},
   "source": [
    "数据处理中Python实现的算子均支持多进程的模式，例如：\n",
    "- `GeneratorDataset`这个类默认是多进程模式，它的`num_parallel_workers`参数表示的是开启的进程数，默认为1，具体内容请参考[GeneratorDataset](https://www.mindspore.cn/api/zh-CN/master/api/python/mindspore/mindspore.dataset.html#mindspore.dataset.GeneratorDataset)。\n",
    "- 如果使用Python自定义函数或者`py_transforms`模块进行数据增强的时候，当`map`函数的参数`python_multiprocessing`设置为True时，此时参数`num_parallel_workers`表示的是进程数，参数`python_multiprocessing`默认为False，此时参数`num_parallel_workers`表示的是线程数，具体的内容请参考[内置加载算子](https://www.mindspore.cn/api/zh-CN/master/api/python/mindspore/mindspore.dataset.html)。"
   ]
  },
  {
   "cell_type": "markdown",
   "metadata": {},
   "source": [
    "### Compose优化方案"
   ]
  },
  {
   "cell_type": "markdown",
   "metadata": {},
   "source": [
    "Map算子可以接收Tensor算子列表，并将按照顺序应用所有的这些算子，与为每个Tensor算子使用的Map算子相比，此类“胖Map算子”可以获得更好的性能，如图所示："
   ]
  },
  {
   "cell_type": "markdown",
   "metadata": {},
   "source": [
    "![title](https://gitee.com/mindspore/docs/raw/master/tutorials/notebook/optimize_the_performance_of_data_preparation/images/compose.png)"
   ]
  },
  {
   "cell_type": "markdown",
   "metadata": {},
   "source": [
    "### 算子融合优化方案"
   ]
  },
  {
   "cell_type": "markdown",
   "metadata": {},
   "source": [
    "提供某些融合算子，这些算子将两个或多个算子的功能聚合到一个算子中。具体内容请参考[数据增强算子](https://www.mindspore.cn/api/zh-CN/master/api/python/mindspore/mindspore.dataset.vision.html)，与它们各自组件的流水线相比，这种融合算子提供了更好的性能。如图所示："
   ]
  },
  {
   "cell_type": "markdown",
   "metadata": {},
   "source": [
    "![title](https://gitee.com/mindspore/docs/raw/master/tutorials/notebook/optimize_the_performance_of_data_preparation/images/operator_fusion.png)"
   ]
  }
 ],
 "metadata": {
  "kernelspec": {
   "display_name": "Python 3",
   "language": "python",
   "name": "python3"
  },
  "language_info": {
   "codemirror_mode": {
    "name": "ipython",
    "version": 3
   },
   "file_extension": ".py",
   "mimetype": "text/x-python",
   "name": "python",
   "nbconvert_exporter": "python",
   "pygments_lexer": "ipython3",
   "version": "3.7.5"
  }
 },
 "nbformat": 4,
 "nbformat_minor": 4
}